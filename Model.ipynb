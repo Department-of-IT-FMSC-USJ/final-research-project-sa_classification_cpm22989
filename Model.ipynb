{
  "nbformat": 4,
  "nbformat_minor": 0,
  "metadata": {
    "colab": {
      "provenance": [],
      "gpuType": "T4"
    },
    "kernelspec": {
      "name": "python3",
      "display_name": "Python 3"
    },
    "language_info": {
      "name": "python"
    },
    "accelerator": "GPU"
  },
  "cells": [
    {
      "cell_type": "code",
      "source": [
        "import torch\n"
      ],
      "metadata": {
        "id": "x-c5u0-9mgvg"
      },
      "execution_count": null,
      "outputs": []
    },
    {
      "cell_type": "code",
      "source": [
        "torch.cuda.empty_cache()\n"
      ],
      "metadata": {
        "id": "HlP-9VOJX6oX"
      },
      "execution_count": null,
      "outputs": []
    },
    {
      "cell_type": "code",
      "source": [
        "from google.colab import drive\n",
        "drive.mount('/content/drive')"
      ],
      "metadata": {
        "colab": {
          "base_uri": "https://localhost:8080/"
        },
        "id": "4rpgqEG4YlsL",
        "outputId": "2be12c31-9860-416b-a94e-b48af9a55d77"
      },
      "execution_count": null,
      "outputs": [
        {
          "output_type": "stream",
          "name": "stdout",
          "text": [
            "Mounted at /content/drive\n"
          ]
        }
      ]
    },
    {
      "cell_type": "code",
      "execution_count": null,
      "metadata": {
        "id": "axLEdonTYZmx"
      },
      "outputs": [],
      "source": [
        "# Import libraries\n",
        "import os\n",
        "import random\n",
        "import re\n",
        "\n",
        "# Data handling\n",
        "import pandas as pd\n",
        "import numpy as np\n",
        "\n",
        "# PyTorch & utilities\n",
        "import torch\n",
        "import torch.nn as nn\n",
        "import torch.nn.functional as F\n",
        "from torch.utils.data import Dataset, DataLoader\n",
        "\n",
        "# Metrics\n",
        "from sklearn.metrics import accuracy_score, classification_report, precision_score, recall_score, f1_score, confusion_matrix\n",
        "from sklearn.model_selection import train_test_split\n",
        "\n",
        "# NLP libraries\n",
        "import spacy\n",
        "\n",
        "# HuggingFace Transformers\n",
        "from transformers import BertTokenizer, BertModel\n",
        "\n",
        "# Progress bar\n",
        "from tqdm import tqdm\n",
        "\n",
        "# Visualization\n",
        "import matplotlib.pyplot as plt\n",
        "import seaborn as sns\n"
      ]
    },
    {
      "cell_type": "code",
      "source": [
        "def set_seed(seed=42):\n",
        "    random.seed(seed)\n",
        "    np.random.seed(seed)\n",
        "    torch.manual_seed(seed)\n",
        "    if torch.cuda.is_available():\n",
        "        torch.cuda.manual_seed_all(seed)\n",
        "        torch.backends.cudnn.deterministic = True\n",
        "        torch.backends.cudnn.benchmark = False\n",
        "\n",
        "set_seed(42)\n"
      ],
      "metadata": {
        "id": "s8ozuQKSYk_j"
      },
      "execution_count": null,
      "outputs": []
    },
    {
      "cell_type": "code",
      "source": [
        "# Update these paths to match your actual file locations\n",
        "df_a = \"/content/drive/MyDrive/test_data (1).csv\"\n",
        "df_b = \"/content/drive/MyDrive/processed_reviews_course.csv\"\n",
        "df_c = \"/content/drive/MyDrive/processed_reviews_movies.csv\"\n",
        "\n",
        "# Load datasets\n",
        "try:\n",
        "    df_imdb1 = pd.read_csv(df_c)\n",
        "    df_edu1 = pd.read_csv(df_b)\n",
        "    df_amazon1 = pd.read_csv(df_a)\n",
        "    print(\"All datasets loaded successfully!\")\n",
        "except FileNotFoundError as e:\n",
        "    print(f\"Error loading files: {e}\")\n",
        "    print(\"Please check your file paths and ensure files exist in Google Drive\")\n"
      ],
      "metadata": {
        "id": "emX70lDmYqfN",
        "colab": {
          "base_uri": "https://localhost:8080/"
        },
        "outputId": "4de25988-133a-493a-a3e0-12163173a20e"
      },
      "execution_count": null,
      "outputs": [
        {
          "output_type": "stream",
          "name": "stdout",
          "text": [
            "All datasets loaded successfully!\n"
          ]
        }
      ]
    },
    {
      "cell_type": "code",
      "source": [
        "def stratified_sample(df, label_col, n, seed=42):\n",
        "\n",
        "    labels = df[label_col].unique()\n",
        "    per_label = n // len(labels)\n",
        "    sampled_dfs = []\n",
        "\n",
        "    for label in labels:\n",
        "        label_df = df[df[label_col] == label]\n",
        "        if len(label_df) >= per_label:\n",
        "            sampled_dfs.append(label_df.sample(n=per_label, random_state=seed))\n",
        "        else:\n",
        "            print(f\"Warning: Not enough samples for label {label}. Using all {len(label_df)} samples.\")\n",
        "            sampled_dfs.append(label_df)\n",
        "\n",
        "    return pd.concat(sampled_dfs, ignore_index=True)\n",
        "\n",
        "# Sample datasets\n",
        "df_imdb = stratified_sample(df_imdb1, 'label', 200000)\n",
        "df_edu = stratified_sample(df_edu1, 'label', 200000)\n",
        "df_amazon = stratified_sample(df_amazon1, 'label', 200000)\n"
      ],
      "metadata": {
        "id": "mnWXOBs7Ys2J"
      },
      "execution_count": null,
      "outputs": []
    },
    {
      "cell_type": "code",
      "source": [
        "print(df_imdb1.columns)\n",
        "print(df_edu1.columns)\n",
        "print(df_amazon1.columns)\n"
      ],
      "metadata": {
        "colab": {
          "base_uri": "https://localhost:8080/"
        },
        "id": "wGmal3uLN7Jy",
        "outputId": "4c9406ab-6f81-4190-8ae9-ae82f36985e5"
      },
      "execution_count": null,
      "outputs": [
        {
          "output_type": "stream",
          "name": "stdout",
          "text": [
            "Index(['label', 'text'], dtype='object')\n",
            "Index(['label', 'text'], dtype='object')\n",
            "Index(['label', 'text'], dtype='object')\n"
          ]
        }
      ]
    },
    {
      "cell_type": "code",
      "source": [
        "# Check class distributions\n",
        "print(\"IMDB class counts:\")\n",
        "print(df_imdb['label'].value_counts())\n",
        "\n",
        "print(\"\\nEducation class counts:\")\n",
        "print(df_edu['label'].value_counts())\n",
        "\n",
        "print(\"\\nAmazon class counts:\")\n",
        "print(df_amazon['label'].value_counts())\n"
      ],
      "metadata": {
        "colab": {
          "base_uri": "https://localhost:8080/"
        },
        "id": "WU2sVLRlY1Fc",
        "outputId": "ee3b461b-0a38-4b30-f628-630fd12e76cd"
      },
      "execution_count": null,
      "outputs": [
        {
          "output_type": "stream",
          "name": "stdout",
          "text": [
            "IMDB class counts:\n",
            "label\n",
            "1    100000\n",
            "2    100000\n",
            "Name: count, dtype: int64\n",
            "\n",
            "Education class counts:\n",
            "label\n",
            "2    100000\n",
            "1    100000\n",
            "Name: count, dtype: int64\n",
            "\n",
            "Amazon class counts:\n",
            "label\n",
            "2    100000\n",
            "1    100000\n",
            "Name: count, dtype: int64\n"
          ]
        }
      ]
    },
    {
      "cell_type": "code",
      "source": [
        "def clean_text(text):\n",
        "    \"\"\"\n",
        "    Clean and preprocess text data\n",
        "    \"\"\"\n",
        "    text = str(text)\n",
        "    # Remove HTML tags\n",
        "    text = re.sub(r'<.*?>', '', text)\n",
        "    # Remove URLs\n",
        "    text = re.sub(r'http\\S+|www\\S+|https\\S+', '', text)\n",
        "    # Remove extra whitespace\n",
        "    text = re.sub(r'\\s+', ' ', text).strip()\n",
        "    # Remove special characters but keep spaces\n",
        "    text = re.sub(r'[^\\w\\s]', '', text)\n",
        "    return text.lower()\n",
        "\n",
        "# Apply text cleaning\n",
        "for df in [df_amazon, df_imdb, df_edu]:\n",
        "    df['text'] = df['text'].apply(clean_text)\n",
        "\n",
        "print(\"Text cleaning completed!\")\n"
      ],
      "metadata": {
        "id": "tIy1SHuxY-VJ",
        "colab": {
          "base_uri": "https://localhost:8080/"
        },
        "outputId": "9844b5f2-a602-4bf4-95ee-a5c20c5647b4"
      },
      "execution_count": null,
      "outputs": [
        {
          "output_type": "stream",
          "name": "stdout",
          "text": [
            "Text cleaning completed!\n"
          ]
        }
      ]
    },
    {
      "cell_type": "code",
      "source": [
        "def split_dataset(df):\n",
        "    \"\"\"\n",
        "    Split dataset into train/validation/test sets\n",
        "    \"\"\"\n",
        "    train, temp = train_test_split(df, test_size=0.2, random_state=42, stratify=df['label'])\n",
        "    val, test = train_test_split(temp, test_size=0.5, random_state=42, stratify=temp['label'])\n",
        "    return train.reset_index(drop=True), val.reset_index(drop=True), test.reset_index(drop=True)\n",
        "\n",
        "# Split datasets\n",
        "amazon_train, amazon_val, amazon_test = split_dataset(df_amazon)\n",
        "imdb_train, imdb_val, imdb_test = split_dataset(df_imdb)\n",
        "edu_train, edu_val, edu_test = split_dataset(df_edu)\n",
        "\n",
        "print(\"Dataset splitting completed!\")\n",
        "print(f\"Amazon - Train: {len(amazon_train)}, Val: {len(amazon_val)}, Test: {len(amazon_test)}\")\n",
        "print(f\"IMDB - Train: {len(imdb_train)}, Val: {len(imdb_val)}, Test: {len(imdb_test)}\")\n",
        "print(f\"Education - Train: {len(edu_train)}, Val: {len(edu_val)}, Test: {len(edu_test)}\")\n"
      ],
      "metadata": {
        "id": "_mNFPXpMZCIo",
        "colab": {
          "base_uri": "https://localhost:8080/"
        },
        "outputId": "32f90401-c25c-413a-d2c4-fdb610205543"
      },
      "execution_count": null,
      "outputs": [
        {
          "output_type": "stream",
          "name": "stdout",
          "text": [
            "Dataset splitting completed!\n",
            "Amazon - Train: 160000, Val: 20000, Test: 20000\n",
            "IMDB - Train: 160000, Val: 20000, Test: 20000\n",
            "Education - Train: 160000, Val: 20000, Test: 20000\n"
          ]
        }
      ]
    },
    {
      "cell_type": "code",
      "source": [
        "# Install and load NLTK VADER\n",
        "import nltk\n",
        "nltk.download('vader_lexicon')\n",
        "from nltk.sentiment.vader import SentimentIntensityAnalyzer\n",
        "\n",
        "# Initialize VADER\n",
        "sid = SentimentIntensityAnalyzer()\n",
        "\n",
        "# Load spaCy model\n",
        "try:\n",
        "    nlp = spacy.load(\"en_core_web_sm\")\n",
        "    print(\"spaCy model loaded successfully!\")\n",
        "except OSError:\n",
        "    print(\"Installing spaCy English model...\")\n",
        "    !python -m spacy download en_core_web_sm\n",
        "    nlp = spacy.load(\"en_core_web_sm\")\n"
      ],
      "metadata": {
        "id": "fJtpNKjAZE4q",
        "colab": {
          "base_uri": "https://localhost:8080/"
        },
        "outputId": "33feb69d-d7bb-44f8-fe2f-e7e00a09dea9"
      },
      "execution_count": null,
      "outputs": [
        {
          "output_type": "stream",
          "name": "stderr",
          "text": [
            "[nltk_data] Downloading package vader_lexicon to /root/nltk_data...\n",
            "[nltk_data]   Package vader_lexicon is already up-to-date!\n"
          ]
        },
        {
          "output_type": "stream",
          "name": "stdout",
          "text": [
            "spaCy model loaded successfully!\n"
          ]
        }
      ]
    },
    {
      "cell_type": "code",
      "source": [
        "# Load BERT tokenizer and model\n",
        "tokenizer = BertTokenizer.from_pretrained(\"bert-base-uncased\")\n",
        "bert_model = BertModel.from_pretrained(\"bert-base-uncased\")\n",
        "device = torch.device(\"cuda\" if torch.cuda.is_available() else \"cpu\")\n",
        "print(f\"Using device: {device}\")\n"
      ],
      "metadata": {
        "colab": {
          "base_uri": "https://localhost:8080/"
        },
        "id": "UwW7AYAOZIAV",
        "outputId": "ca7beabe-d54b-4f1c-8dd4-b944d189945b"
      },
      "execution_count": null,
      "outputs": [
        {
          "output_type": "stream",
          "name": "stdout",
          "text": [
            "Using device: cuda\n"
          ]
        }
      ]
    },
    {
      "cell_type": "code",
      "source": [
        "class TextDataset(Dataset):\n",
        "    def __init__(self, texts):\n",
        "        self.texts = texts\n",
        "\n",
        "    def __len__(self):\n",
        "        return len(self.texts)\n",
        "\n",
        "    def __getitem__(self, idx):\n",
        "        return self.texts[idx]\n",
        "\n",
        "def collate_fn(batch):\n",
        "    return tokenizer(batch, return_tensors=\"pt\", padding=True, truncation=True, max_length=128)\n",
        "\n",
        "def get_bert_vectors_batch(texts, batch_size=32):\n",
        "    \"\"\"\n",
        "    Extract BERT embeddings for a batch of texts\n",
        "    \"\"\"\n",
        "    dataset = TextDataset(texts)\n",
        "    dataloader = DataLoader(dataset, batch_size=batch_size, collate_fn=collate_fn)\n",
        "    all_embeddings = []\n",
        "    bert_model.to(device).eval()\n",
        "\n",
        "    with torch.no_grad():\n",
        "        for batch in tqdm(dataloader, desc=\"Extracting BERT features\"):\n",
        "            batch = {k: v.to(device) for k, v in batch.items() if isinstance(v, torch.Tensor)}\n",
        "            outputs = bert_model(**batch)\n",
        "            cls_vec = outputs.last_hidden_state[:, 0, :]  # CLS token\n",
        "            all_embeddings.append(cls_vec.cpu().numpy())\n",
        "\n",
        "    return np.vstack(all_embeddings)\n"
      ],
      "metadata": {
        "id": "OwWrQ04VZKHW"
      },
      "execution_count": null,
      "outputs": []
    },
    {
      "cell_type": "code",
      "source": [
        "def get_lexical_features(text):\n",
        "    \"\"\"\n",
        "    Extract lexical features using VADER sentiment analysis\n",
        "    \"\"\"\n",
        "    scores = sid.polarity_scores(text)\n",
        "    return [scores['pos'], scores['neu'], scores['neg'], scores['compound']]\n"
      ],
      "metadata": {
        "id": "9nu1AVzGZN5o"
      },
      "execution_count": null,
      "outputs": []
    },
    {
      "cell_type": "code",
      "source": [
        "def get_syntactic_vectors(texts):\n",
        "    \"\"\"\n",
        "    Extract syntactic features using spaCy\n",
        "    \"\"\"\n",
        "    vectors = []\n",
        "    for doc in tqdm(nlp.pipe(texts, batch_size=100), total=len(texts), desc=\"Extracting syntactic features\"):\n",
        "        negation = int(any(tok.dep_ == \"neg\" for tok in doc))\n",
        "        num_nouns = sum(1 for tok in doc if tok.pos_ == \"NOUN\")\n",
        "        num_verbs = sum(1 for tok in doc if tok.pos_ == \"VERB\")\n",
        "        vectors.append([negation, num_nouns, num_verbs])\n",
        "    return vectors\n"
      ],
      "metadata": {
        "id": "6Ehp4VKXlwfy"
      },
      "execution_count": null,
      "outputs": []
    },
    {
      "cell_type": "code",
      "source": [
        "def save_feature_set(df, name):\n",
        "    \"\"\"\n",
        "    Save extracted features to file\n",
        "    \"\"\"\n",
        "    os.makedirs(\"/content/drive/MyDrive/features\", exist_ok=True)\n",
        "\n",
        "    # Ensure labels are 0-based\n",
        "    labels = df['label'].to_numpy()\n",
        "    if labels.min() > 0:\n",
        "        labels = labels - labels.min()\n",
        "\n",
        "    torch.save({\n",
        "        'bert': np.stack(df['bert_vector'].to_numpy()),\n",
        "        'lexical': np.stack(df['lexical_vector'].to_numpy()),\n",
        "        'syntactic': np.stack(df['syntactic_vector'].to_numpy()),\n",
        "        'labels': labels\n",
        "    }, f\"/content/drive/MyDrive/features/{name}_features.pt\")\n",
        "\n",
        "    print(f\"Features saved for {name}\")\n"
      ],
      "metadata": {
        "id": "SvnUEuA1ZVcL"
      },
      "execution_count": null,
      "outputs": []
    },
    {
      "cell_type": "code",
      "source": [
        "def extract_features_and_save(df, name):\n",
        "    \"\"\"\n",
        "    Extract all features for a dataset and save them\n",
        "    \"\"\"\n",
        "    print(f\"Processing {name}...\")\n",
        "\n",
        "    # Make a copy to avoid modifying original\n",
        "    df_copy = df.copy()\n",
        "\n",
        "    # BERT features\n",
        "    try:\n",
        "        texts = df_copy[\"text\"].tolist()\n",
        "        print(\"Extracting BERT features...\")\n",
        "        bert_vecs = get_bert_vectors_batch(texts)\n",
        "        df_copy[\"bert_vector\"] = list(bert_vecs)\n",
        "        print(\"BERT features extracted successfully!\")\n",
        "    except Exception as e:\n",
        "        print(f\"Error extracting BERT features for {name}: {e}\")\n",
        "        return False\n",
        "\n",
        "    # Lexical features\n",
        "    try:\n",
        "        print(\"Extracting lexical features...\")\n",
        "        df_copy[\"lexical_vector\"] = df_copy[\"text\"].apply(get_lexical_features)\n",
        "        print(\"Lexical features extracted successfully!\")\n",
        "    except Exception as e:\n",
        "        print(f\"Error extracting lexical features for {name}: {e}\")\n",
        "        return False\n",
        "\n",
        "    # Syntactic features\n",
        "    try:\n",
        "        print(\"Extracting syntactic features...\")\n",
        "        syn_vecs = get_syntactic_vectors(df_copy[\"text\"].tolist())\n",
        "        df_copy[\"syntactic_vector\"] = syn_vecs\n",
        "        print(\"Syntactic features extracted successfully!\")\n",
        "    except Exception as e:\n",
        "        print(f\"Error extracting syntactic features for {name}: {e}\")\n",
        "        return False\n",
        "\n",
        "    # Save features\n",
        "    try:\n",
        "        save_feature_set(df_copy, name)\n",
        "        print(f\"Features for {name} saved successfully!\\n\")\n",
        "        return True\n",
        "    except Exception as e:\n",
        "        print(f\"Error saving features for {name}: {e}\")\n",
        "        return False\n",
        "\n",
        "# Extract features for all datasets\n",
        "datasets_to_process = {\n",
        "    \"amazon_train\": amazon_train,\n",
        "    \"amazon_val\": amazon_val,\n",
        "    \"amazon_test\": amazon_test,\n",
        "    \"imdb_test\": imdb_test,\n",
        "    \"edu_test\": edu_test\n",
        "}\n",
        "\n",
        "for name, df in datasets_to_process.items():\n",
        "    success = extract_features_and_save(df, name)\n",
        "    if not success:\n",
        "        print(f\"Failed to process {name}\")\n",
        "        break\n"
      ],
      "metadata": {
        "colab": {
          "base_uri": "https://localhost:8080/"
        },
        "id": "f9VpmpLvB9UQ",
        "outputId": "4c16a1e2-23c4-40c5-9613-ccd42fd69e3e"
      },
      "execution_count": null,
      "outputs": [
        {
          "output_type": "stream",
          "name": "stdout",
          "text": [
            "Processing amazon_train...\n",
            "Extracting BERT features...\n",
            "Error extracting BERT features for amazon_train: name 'get_bert_vectors_batch' is not defined\n",
            "Failed to process amazon_train\n"
          ]
        }
      ]
    },
    {
      "cell_type": "code",
      "source": [
        "class TextDataset(Dataset):\n",
        "    def __init__(self, texts):\n",
        "        self.texts = texts\n",
        "    def __len__(self):\n",
        "        return len(self.texts)\n",
        "    def __getitem__(self, idx):\n",
        "        return self.texts[idx]\n",
        "\n",
        "def collate_fn(batch):\n",
        "    return tokenizer(batch, return_tensors=\"pt\", padding=True, truncation=True, max_length=128)\n",
        "\n",
        "def get_bert_vectors_batch(texts, batch_size=32):\n",
        "    dataset = TextDataset(texts)\n",
        "    dataloader = DataLoader(dataset, batch_size=batch_size, collate_fn=collate_fn)\n",
        "    all_embeddings = []\n",
        "    bert_model.to(device).eval()\n",
        "    with torch.no_grad():\n",
        "        for batch in tqdm(dataloader):\n",
        "            batch = {k: v.to(device) for k, v in batch.items() if isinstance(v, torch.Tensor)}\n",
        "            outputs = bert_model(**batch)\n",
        "            cls_vec = outputs.last_hidden_state[:, 0, :]\n",
        "            all_embeddings.append(cls_vec.cpu().numpy())\n",
        "    return np.vstack(all_embeddings)\n"
      ],
      "metadata": {
        "id": "uu4WeqpcnoAT"
      },
      "execution_count": null,
      "outputs": []
    },
    {
      "cell_type": "code",
      "source": [
        "def get_lexical_features(text):\n",
        "    scores = sid.polarity_scores(text)\n",
        "    return [scores['pos'], scores['neu'], scores['neg'], scores['compound']]\n"
      ],
      "metadata": {
        "id": "P6BQfbFvnoAU"
      },
      "execution_count": null,
      "outputs": []
    },
    {
      "cell_type": "code",
      "source": [
        "nlp = spacy.load(\"en_core_web_sm\")\n",
        "\n",
        "def get_syntactic_vectors(texts):\n",
        "    vectors = []\n",
        "    for doc in tqdm(nlp.pipe(texts, batch_size=100), total=len(texts), desc=\"spaCy Batch\"):\n",
        "        negation = int(any(tok.dep_ == \"neg\" for tok in doc))\n",
        "        num_nouns = sum(1 for tok in doc if tok.pos_ == \"NOUN\")\n",
        "        num_verbs = sum(1 for tok in doc if tok.pos_ == \"VERB\")\n",
        "        vectors.append([negation, num_nouns, num_verbs])\n",
        "    return vectors"
      ],
      "metadata": {
        "id": "3LS03PZLnoAU"
      },
      "execution_count": null,
      "outputs": []
    },
    {
      "cell_type": "code",
      "source": [
        "def save_feature_set(df, name):\n",
        "    os.makedirs(\"/content/drive/MyDrive/features\", exist_ok=True)\n",
        "    torch.save({\n",
        "        'bert': np.stack(df['bert_vector'].to_numpy()),\n",
        "        'lexical': np.stack(df['lexical_vector'].to_numpy()),\n",
        "        'syntactic': np.stack(df['syntactic_vector'].to_numpy()),\n",
        "        'labels': df['label'].to_numpy() - df['label'].min()  # Labels 0-based\n",
        "    }, f\"/content/drive/MyDrive/features/{name}_features.pt\")\n"
      ],
      "metadata": {
        "id": "cQ1E0A1znoAU"
      },
      "execution_count": null,
      "outputs": []
    },
    {
      "cell_type": "code",
      "source": [
        "class SentimentDatasetCNN(Dataset):\n",
        "    def __init__(self, bert_tokens, lex_vecs, syn_vecs, labels):\n",
        "        self.bert = bert_tokens\n",
        "        self.lex = lex_vecs\n",
        "        self.syn = syn_vecs\n",
        "        self.labels = labels\n",
        "\n",
        "    def __len__(self):\n",
        "        return len(self.labels)\n",
        "\n",
        "    def __getitem__(self, idx):\n",
        "        return (\n",
        "            torch.tensor(self.bert[idx], dtype=torch.float),\n",
        "            torch.tensor(self.lex[idx], dtype=torch.float),\n",
        "            torch.tensor(self.syn[idx], dtype=torch.float),\n",
        "            torch.tensor(self.labels[idx], dtype=torch.long)\n",
        "        )\n"
      ],
      "metadata": {
        "id": "7LryyiPxZbVC"
      },
      "execution_count": null,
      "outputs": []
    },
    {
      "cell_type": "code",
      "source": [
        "def load_feature_set(name):\n",
        "    \"\"\"\n",
        "    Load pre-extracted features from file with proper weights_only setting\n",
        "    \"\"\"\n",
        "    try:\n",
        "        # Set weights_only=False to allow loading numpy arrays\n",
        "        obj = torch.load(f\"/content/drive/MyDrive/features/{name}_features.pt\",\n",
        "                        map_location='cpu', weights_only=False)\n",
        "        return SentimentDatasetCNN(obj['bert'], obj['lexical'], obj['syntactic'], obj['labels'])\n",
        "    except FileNotFoundError:\n",
        "        print(f\"Feature file for {name} not found. Please run feature extraction first.\")\n",
        "        return None\n",
        "    except Exception as e:\n",
        "        print(f\"Error loading feature file for {name}: {e}\")\n",
        "        return None\n"
      ],
      "metadata": {
        "id": "me6aZTdRZnNi"
      },
      "execution_count": null,
      "outputs": []
    },
    {
      "cell_type": "code",
      "source": [
        "class FeatureAttentionFusionModel(nn.Module):\n",
        "    def __init__(self, bert_dim, lex_dim, syn_dim, hidden_dim, num_classes):\n",
        "        super().__init__()\n",
        "        self.bert_proj = nn.Linear(bert_dim, hidden_dim)\n",
        "        self.lex_proj = nn.Linear(lex_dim, hidden_dim)\n",
        "        self.syn_proj = nn.Linear(syn_dim, hidden_dim)\n",
        "\n",
        "        # Attention mechanism\n",
        "        self.attention = nn.Linear(hidden_dim * 3, 3)\n",
        "\n",
        "        # Classifier\n",
        "        self.classifier = nn.Sequential(\n",
        "            nn.Linear(hidden_dim, 64),\n",
        "            nn.ReLU(),\n",
        "            nn.Dropout(0.1),\n",
        "            nn.Linear(64, num_classes)\n",
        "        )\n",
        "\n",
        "    def forward(self, bert_vec, lex_vec, syn_vec):\n",
        "        # Project all features to same dimension\n",
        "        bert_feat = self.bert_proj(bert_vec)\n",
        "        lex_feat = self.lex_proj(lex_vec)\n",
        "        syn_feat = self.syn_proj(syn_vec)\n",
        "\n",
        "        # Stack features for attention\n",
        "        stacked = torch.stack([bert_feat, lex_feat, syn_feat], dim=1)\n",
        "\n",
        "        # Compute attention weights\n",
        "        concat = torch.cat([bert_feat, lex_feat, syn_feat], dim=1)\n",
        "        attn_weights = F.softmax(self.attention(concat), dim=1).unsqueeze(2)\n",
        "\n",
        "        # Apply attention and fuse features\n",
        "        fused = torch.sum(attn_weights * stacked, dim=1)\n",
        "\n",
        "        return self.classifier(fused)\n"
      ],
      "metadata": {
        "id": "Q2UFjLM4ZrFq"
      },
      "execution_count": null,
      "outputs": []
    },
    {
      "cell_type": "code",
      "source": [
        "\n",
        "from sklearn.metrics import accuracy_score, classification_report, precision_score, recall_score, f1_score, confusion_matrix\n",
        "import matplotlib.pyplot as plt\n",
        "import seaborn as sns\n",
        "\n",
        "def train_model(model, dataloader, optimizer, loss_fn, num_epochs=20):\n",
        "    \"\"\"\n",
        "    Train the model\n",
        "    \"\"\"\n",
        "    model.train()\n",
        "    for epoch in range(num_epochs):\n",
        "        total_loss = 0\n",
        "        num_batches = 0\n",
        "\n",
        "        for bert, lex, syn, label in tqdm(dataloader, desc=f\"Epoch {epoch+1}/{num_epochs}\"):\n",
        "            bert, lex, syn, label = bert.to(device), lex.to(device), syn.to(device), label.to(device)\n",
        "\n",
        "            optimizer.zero_grad()\n",
        "            output = model(bert, lex, syn)\n",
        "            loss = loss_fn(output, label)\n",
        "\n",
        "            # Check for invalid loss\n",
        "            if torch.isnan(loss) or torch.isinf(loss):\n",
        "                print(f\"⚠️ Skipping batch due to invalid loss: {loss.item()}\")\n",
        "                continue\n",
        "\n",
        "            loss.backward()\n",
        "            optimizer.step()\n",
        "\n",
        "            total_loss += loss.item()\n",
        "            num_batches += 1\n",
        "\n",
        "        avg_loss = total_loss / num_batches if num_batches > 0 else 0\n",
        "        print(f\"Epoch {epoch+1}/{num_epochs}, Average Loss: {avg_loss:.4f}\")\n",
        "\n",
        "def evaluate_model(model, dataloader):\n",
        "    \"\"\"\n",
        "    Evaluate model and return metrics\n",
        "    \"\"\"\n",
        "    model.eval()\n",
        "    all_preds = []\n",
        "    all_labels = []\n",
        "\n",
        "    with torch.no_grad():\n",
        "        for bert, lex, syn, label in dataloader:\n",
        "            bert, lex, syn = bert.to(device), lex.to(device), syn.to(device)\n",
        "            output = model(bert, lex, syn)\n",
        "            preds = torch.argmax(output, dim=1)\n",
        "\n",
        "            all_preds.extend(preds.cpu().numpy())\n",
        "            all_labels.extend(label.numpy())\n",
        "\n",
        "    # Calculate metrics\n",
        "    acc = accuracy_score(all_labels, all_preds)\n",
        "    precision = precision_score(all_labels, all_preds, average='weighted', zero_division=0)\n",
        "    recall = recall_score(all_labels, all_preds, average='weighted', zero_division=0)\n",
        "    f1 = f1_score(all_labels, all_preds, average='weighted', zero_division=0)\n",
        "\n",
        "    return acc, precision, recall, f1, all_labels, all_preds\n"
      ],
      "metadata": {
        "id": "mdZs4t9-s_Wz"
      },
      "execution_count": null,
      "outputs": []
    },
    {
      "cell_type": "code",
      "source": [
        "\n",
        "from sklearn.metrics import accuracy_score, classification_report, precision_score, recall_score, f1_score, confusion_matrix\n",
        "import matplotlib.pyplot as plt\n",
        "import seaborn as sns\n",
        "\n",
        "device = torch.device(\"cuda\" if torch.cuda.is_available() else \"cpu\")\n",
        "print(f\"Using device: {device}\")\n",
        "\n",
        "try:\n",
        "    # Load training dataset\n",
        "    print(\"Loading training dataset...\")\n",
        "    dtrain = load_feature_set(\"amazon_train\")\n",
        "\n",
        "    if dtrain is None:\n",
        "        raise ValueError(\"Failed to load training dataset\")\n",
        "\n",
        "    # Get feature dimensions from first sample\n",
        "    sample_bert, sample_lex, sample_syn, sample_label = dtrain[0]\n",
        "    dim_bert = sample_bert.shape[0]\n",
        "    dim_lex = sample_lex.shape[0]\n",
        "    dim_syn = sample_syn.shape[0]\n",
        "    num_classes = len(np.unique(dtrain.labels))\n",
        "\n",
        "    print(f\"Feature dimensions:\")\n",
        "    print(f\"  BERT: {dim_bert}\")\n",
        "    print(f\"  Lexical: {dim_lex}\")\n",
        "    print(f\"  Syntactic: {dim_syn}\")\n",
        "    print(f\"  Number of classes: {num_classes}\")\n",
        "\n",
        "    # Create model\n",
        "    model = FeatureAttentionFusionModel(\n",
        "        bert_dim=dim_bert,\n",
        "        lex_dim=dim_lex,\n",
        "        syn_dim=dim_syn,\n",
        "        hidden_dim=128,\n",
        "        num_classes=num_classes\n",
        "    ).to(device)\n",
        "\n",
        "    print(f\"Model created with {sum(p.numel() for p in model.parameters())} parameters\")\n",
        "\n",
        "    # Setup training\n",
        "    optimizer = torch.optim.Adam(model.parameters(), lr=2e-4)\n",
        "    loss_fn = nn.CrossEntropyLoss()\n",
        "\n",
        "    # Create data loader\n",
        "    train_loader = DataLoader(dtrain, batch_size=32, shuffle=True)\n",
        "    print(f\"Training loader created with {len(train_loader)} batches\")\n",
        "\n",
        "    # Training function with progress tracking\n",
        "    def train_model(model, dataloader, optimizer, loss_fn, num_epochs=20):\n",
        "        model.train()\n",
        "        for epoch in range(num_epochs):\n",
        "            total_loss = 0\n",
        "            num_batches = 0\n",
        "\n",
        "            for bert, lex, syn, label in tqdm(dataloader, desc=f\"Epoch {epoch+1}/{num_epochs}\"):\n",
        "                bert, lex, syn, label = bert.to(device), lex.to(device), syn.to(device), label.to(device)\n",
        "\n",
        "                optimizer.zero_grad()\n",
        "                output = model(bert, lex, syn)\n",
        "                loss = loss_fn(output, label)\n",
        "\n",
        "                # Check for invalid loss\n",
        "                if torch.isnan(loss) or torch.isinf(loss):\n",
        "                    print(f\"⚠️ Skipping batch due to invalid loss: {loss.item()}\")\n",
        "                    continue\n",
        "\n",
        "                loss.backward()\n",
        "                optimizer.step()\n",
        "\n",
        "                total_loss += loss.item()\n",
        "                num_batches += 1\n",
        "\n",
        "            avg_loss = total_loss / num_batches if num_batches > 0 else 0\n",
        "            print(f\"Epoch {epoch+1}/{num_epochs}, Average Loss: {avg_loss:.4f}\")\n",
        "\n",
        "    # Start training\n",
        "    print(\"Starting training...\")\n",
        "    train_model(model, train_loader, optimizer, loss_fn, num_epochs=20)\n",
        "\n",
        "    # Save model\n",
        "    torch.save(model.state_dict(), \"/content/drive/MyDrive/feature_attention_model.pth\")\n",
        "    print(\"Model saved successfully!\")\n",
        "\n",
        "except Exception as e:\n",
        "    print(f\"Error during training: {e}\")\n",
        "    import traceback\n",
        "    traceback.print_exc()\n"
      ],
      "metadata": {
        "colab": {
          "base_uri": "https://localhost:8080/"
        },
        "id": "X0ZKxYNeO9dI",
        "outputId": "aea28596-e28e-44cf-ffeb-a33923bc6f8d"
      },
      "execution_count": null,
      "outputs": [
        {
          "output_type": "stream",
          "name": "stdout",
          "text": [
            "Using device: cuda\n",
            "Loading training dataset...\n",
            "Feature dimensions:\n",
            "  BERT: 768\n",
            "  Lexical: 4\n",
            "  Syntactic: 3\n",
            "  Number of classes: 2\n",
            "Model created with 109125 parameters\n",
            "Training loader created with 5000 batches\n",
            "Starting training...\n"
          ]
        },
        {
          "output_type": "stream",
          "name": "stderr",
          "text": [
            "Epoch 1/20: 100%|██████████| 5000/5000 [00:29<00:00, 170.00it/s]\n"
          ]
        },
        {
          "output_type": "stream",
          "name": "stdout",
          "text": [
            "Epoch 1/20, Average Loss: 0.3124\n"
          ]
        },
        {
          "output_type": "stream",
          "name": "stderr",
          "text": [
            "Epoch 2/20: 100%|██████████| 5000/5000 [00:21<00:00, 228.99it/s]\n"
          ]
        },
        {
          "output_type": "stream",
          "name": "stdout",
          "text": [
            "Epoch 2/20, Average Loss: 0.2841\n"
          ]
        },
        {
          "output_type": "stream",
          "name": "stderr",
          "text": [
            "Epoch 3/20: 100%|██████████| 5000/5000 [00:20<00:00, 239.65it/s]\n"
          ]
        },
        {
          "output_type": "stream",
          "name": "stdout",
          "text": [
            "Epoch 3/20, Average Loss: 0.2757\n"
          ]
        },
        {
          "output_type": "stream",
          "name": "stderr",
          "text": [
            "Epoch 4/20: 100%|██████████| 5000/5000 [00:20<00:00, 247.74it/s]\n"
          ]
        },
        {
          "output_type": "stream",
          "name": "stdout",
          "text": [
            "Epoch 4/20, Average Loss: 0.2693\n"
          ]
        },
        {
          "output_type": "stream",
          "name": "stderr",
          "text": [
            "Epoch 5/20: 100%|██████████| 5000/5000 [00:20<00:00, 241.48it/s]\n"
          ]
        },
        {
          "output_type": "stream",
          "name": "stdout",
          "text": [
            "Epoch 5/20, Average Loss: 0.2649\n"
          ]
        },
        {
          "output_type": "stream",
          "name": "stderr",
          "text": [
            "Epoch 6/20: 100%|██████████| 5000/5000 [00:20<00:00, 242.68it/s]\n"
          ]
        },
        {
          "output_type": "stream",
          "name": "stdout",
          "text": [
            "Epoch 6/20, Average Loss: 0.2609\n"
          ]
        },
        {
          "output_type": "stream",
          "name": "stderr",
          "text": [
            "Epoch 7/20: 100%|██████████| 5000/5000 [00:20<00:00, 241.21it/s]\n"
          ]
        },
        {
          "output_type": "stream",
          "name": "stdout",
          "text": [
            "Epoch 7/20, Average Loss: 0.2582\n"
          ]
        },
        {
          "output_type": "stream",
          "name": "stderr",
          "text": [
            "Epoch 8/20: 100%|██████████| 5000/5000 [00:21<00:00, 237.62it/s]\n"
          ]
        },
        {
          "output_type": "stream",
          "name": "stdout",
          "text": [
            "Epoch 8/20, Average Loss: 0.2553\n"
          ]
        },
        {
          "output_type": "stream",
          "name": "stderr",
          "text": [
            "Epoch 9/20: 100%|██████████| 5000/5000 [00:19<00:00, 250.69it/s]\n"
          ]
        },
        {
          "output_type": "stream",
          "name": "stdout",
          "text": [
            "Epoch 9/20, Average Loss: 0.2526\n"
          ]
        },
        {
          "output_type": "stream",
          "name": "stderr",
          "text": [
            "Epoch 10/20: 100%|██████████| 5000/5000 [00:20<00:00, 242.29it/s]\n"
          ]
        },
        {
          "output_type": "stream",
          "name": "stdout",
          "text": [
            "Epoch 10/20, Average Loss: 0.2502\n"
          ]
        },
        {
          "output_type": "stream",
          "name": "stderr",
          "text": [
            "Epoch 11/20: 100%|██████████| 5000/5000 [00:20<00:00, 249.71it/s]\n"
          ]
        },
        {
          "output_type": "stream",
          "name": "stdout",
          "text": [
            "Epoch 11/20, Average Loss: 0.2479\n"
          ]
        },
        {
          "output_type": "stream",
          "name": "stderr",
          "text": [
            "Epoch 12/20: 100%|██████████| 5000/5000 [00:20<00:00, 240.42it/s]\n"
          ]
        },
        {
          "output_type": "stream",
          "name": "stdout",
          "text": [
            "Epoch 12/20, Average Loss: 0.2462\n"
          ]
        },
        {
          "output_type": "stream",
          "name": "stderr",
          "text": [
            "Epoch 13/20: 100%|██████████| 5000/5000 [00:20<00:00, 248.44it/s]\n"
          ]
        },
        {
          "output_type": "stream",
          "name": "stdout",
          "text": [
            "Epoch 13/20, Average Loss: 0.2440\n"
          ]
        },
        {
          "output_type": "stream",
          "name": "stderr",
          "text": [
            "Epoch 14/20: 100%|██████████| 5000/5000 [00:20<00:00, 239.47it/s]\n"
          ]
        },
        {
          "output_type": "stream",
          "name": "stdout",
          "text": [
            "Epoch 14/20, Average Loss: 0.2421\n"
          ]
        },
        {
          "output_type": "stream",
          "name": "stderr",
          "text": [
            "Epoch 15/20: 100%|██████████| 5000/5000 [00:20<00:00, 245.07it/s]\n"
          ]
        },
        {
          "output_type": "stream",
          "name": "stdout",
          "text": [
            "Epoch 15/20, Average Loss: 0.2401\n"
          ]
        },
        {
          "output_type": "stream",
          "name": "stderr",
          "text": [
            "Epoch 16/20: 100%|██████████| 5000/5000 [00:20<00:00, 243.01it/s]\n"
          ]
        },
        {
          "output_type": "stream",
          "name": "stdout",
          "text": [
            "Epoch 16/20, Average Loss: 0.2382\n"
          ]
        },
        {
          "output_type": "stream",
          "name": "stderr",
          "text": [
            "Epoch 17/20: 100%|██████████| 5000/5000 [00:20<00:00, 238.39it/s]\n"
          ]
        },
        {
          "output_type": "stream",
          "name": "stdout",
          "text": [
            "Epoch 17/20, Average Loss: 0.2367\n"
          ]
        },
        {
          "output_type": "stream",
          "name": "stderr",
          "text": [
            "Epoch 18/20: 100%|██████████| 5000/5000 [00:20<00:00, 247.67it/s]\n"
          ]
        },
        {
          "output_type": "stream",
          "name": "stdout",
          "text": [
            "Epoch 18/20, Average Loss: 0.2353\n"
          ]
        },
        {
          "output_type": "stream",
          "name": "stderr",
          "text": [
            "Epoch 19/20: 100%|██████████| 5000/5000 [00:20<00:00, 239.15it/s]\n"
          ]
        },
        {
          "output_type": "stream",
          "name": "stdout",
          "text": [
            "Epoch 19/20, Average Loss: 0.2340\n"
          ]
        },
        {
          "output_type": "stream",
          "name": "stderr",
          "text": [
            "Epoch 20/20: 100%|██████████| 5000/5000 [00:20<00:00, 248.39it/s]\n"
          ]
        },
        {
          "output_type": "stream",
          "name": "stdout",
          "text": [
            "Epoch 20/20, Average Loss: 0.2324\n",
            "Model saved successfully!\n"
          ]
        }
      ]
    },
    {
      "cell_type": "code",
      "source": [
        "# Cell 23: Proper evaluation with correct data loading and visualization\n",
        "try:\n",
        "    # Load test datasets\n",
        "    print(\"Loading test datasets...\")\n",
        "    dtest_amazon = load_feature_set(\"amazon_test\")\n",
        "    dtest_imdb = load_feature_set(\"imdb_test\")\n",
        "    dtest_edu = load_feature_set(\"edu_test\")\n",
        "\n",
        "    if None in [dtest_amazon, dtest_imdb, dtest_edu]:\n",
        "        raise ValueError(\"Failed to load one or more test datasets\")\n",
        "\n",
        "    # Create data loaders\n",
        "    test_loaders = {\n",
        "        'Amazon Test': DataLoader(dtest_amazon, batch_size=32, shuffle=False),\n",
        "        'IMDB Test': DataLoader(dtest_imdb, batch_size=32, shuffle=False),\n",
        "        'Education Test': DataLoader(dtest_edu, batch_size=32, shuffle=False)\n",
        "    }\n",
        "\n",
        "    # Evaluate on all test sets\n",
        "    results = {}\n",
        "    all_conf_matrices = {}\n",
        "\n",
        "    for name, loader in test_loaders.items():\n",
        "        print(f\"\\nEvaluating on {name}...\")\n",
        "        acc, precision, recall, f1, y_true, y_pred = evaluate_model(model, loader)\n",
        "\n",
        "        results[name] = {\n",
        "            'Accuracy': acc,\n",
        "            'Precision': precision,\n",
        "            'Recall': recall,\n",
        "            'F1 Score': f1\n",
        "        }\n",
        "\n",
        "        all_conf_matrices[name] = confusion_matrix(y_true, y_pred)\n",
        "\n",
        "        print(f\"Results for {name}:\")\n",
        "        print(f\"  Accuracy: {acc:.4f}\")\n",
        "        print(f\"  Precision: {precision:.4f}\")\n",
        "        print(f\"  Recall: {recall:.4f}\")\n",
        "        print(f\"  F1 Score: {f1:.4f}\")\n",
        "\n",
        "        # Print detailed classification report\n",
        "        print(f\"\\nClassification Report for {name}:\")\n",
        "        print(classification_report(y_true, y_pred))\n",
        "\n",
        "    # Print summary table\n",
        "    print(\"\\n\" + \"=\"*60)\n",
        "    print(\"FINAL RESULTS SUMMARY\")\n",
        "    print(\"=\"*60)\n",
        "    print(f\"{'Dataset':<15} {'Accuracy':<10} {'Precision':<10} {'Recall':<10} {'F1 Score':<10}\")\n",
        "    print(\"-\"*60)\n",
        "    for dataset, metrics in results.items():\n",
        "        print(f\"{dataset:<15} {metrics['Accuracy']:<10.4f} {metrics['Precision']:<10.4f} {metrics['Recall']:<10.4f} {metrics['F1 Score']:<10.4f}\")\n",
        "\n",
        "\n",
        "    # 1. Bar chart comparing all metrics across datasets\n",
        "    import matplotlib.pyplot as plt\n",
        "    import seaborn as sns\n",
        "\n",
        "    plt.style.use('default')\n",
        "\n",
        "    # Prepare data for bar chart\n",
        "    metrics_names = ['Accuracy', 'Precision', 'Recall', 'F1 Score']\n",
        "    datasets = list(results.keys())\n",
        "    values = np.array([[results[d][m] for m in metrics_names] for d in datasets])\n",
        "\n",
        "    # Create bar chart\n",
        "    plt.figure(figsize=(14, 8))\n",
        "    bar_width = 0.2\n",
        "    x = np.arange(len(datasets))\n",
        "    colors = ['#3498db', '#e74c3c', '#2ecc71', '#f39c12']\n",
        "\n",
        "    for i, (metric, color) in enumerate(zip(metrics_names, colors)):\n",
        "        plt.bar(x + i * bar_width, values[:, i], width=bar_width, label=metric, color=color, alpha=0.8)\n",
        "\n",
        "    plt.xlabel('Dataset', fontsize=12, fontweight='bold')\n",
        "    plt.ylabel('Score', fontsize=12, fontweight='bold')\n",
        "    plt.title('Model Performance Metrics Comparison Across Datasets', fontsize=14, fontweight='bold')\n",
        "    plt.xticks(x + 1.5 * bar_width, datasets, fontsize=11)\n",
        "    plt.ylim(0, 1)\n",
        "    plt.legend(fontsize=11)\n",
        "    plt.grid(True, alpha=0.3, axis='y')\n",
        "\n",
        "    # Add value labels on bars\n",
        "    for i, (metric, color) in enumerate(zip(metrics_names, colors)):\n",
        "        for j, value in enumerate(values[:, i]):\n",
        "            plt.text(j + i * bar_width, value + 0.01, f'{value:.3f}',\n",
        "                    ha='center', va='bottom', fontsize=9, fontweight='bold')\n",
        "\n",
        "    plt.tight_layout()\n",
        "    plt.show()\n",
        "\n",
        "    # 2. Confusion matrices in a single figure\n",
        "    fig, axes = plt.subplots(1, 3, figsize=(18, 5))\n",
        "\n",
        "    for i, (name, cm) in enumerate(all_conf_matrices.items()):\n",
        "        # Create heatmap\n",
        "        sns.heatmap(cm, annot=True, fmt='d', cmap='Blues', ax=axes[i],\n",
        "                   cbar_kws={'shrink': 0.8}, annot_kws={'fontsize': 12})\n",
        "        axes[i].set_title(f'Confusion Matrix: {name}', fontsize=12, fontweight='bold')\n",
        "        axes[i].set_xlabel('Predicted Label', fontsize=11)\n",
        "        axes[i].set_ylabel('True Label', fontsize=11)\n",
        "\n",
        "        # Add class labels if you know them (assuming binary classification: 0=Negative, 1=Positive)\n",
        "        class_labels = ['Negative', 'Positive']\n",
        "        axes[i].set_xticklabels(class_labels, rotation=0)\n",
        "        axes[i].set_yticklabels(class_labels, rotation=0)\n",
        "\n",
        "    plt.tight_layout()\n",
        "    plt.show()\n",
        "\n",
        "    # 3. Additional visualization: Accuracy comparison line plot\n",
        "    plt.figure(figsize=(10, 6))\n",
        "    accuracies = [results[dataset]['Accuracy'] for dataset in datasets]\n",
        "    plt.plot(datasets, accuracies, marker='o', linewidth=3, markersize=10, color='#2ecc71')\n",
        "    plt.fill_between(datasets, accuracies, alpha=0.3, color='#2ecc71')\n",
        "\n",
        "    for i, (dataset, acc) in enumerate(zip(datasets, accuracies)):\n",
        "        plt.text(i, acc + 0.01, f'{acc:.3f}', ha='center', va='bottom',\n",
        "                fontsize=12, fontweight='bold')\n",
        "\n",
        "    plt.xlabel('Dataset', fontsize=12, fontweight='bold')\n",
        "    plt.ylabel('Accuracy', fontsize=12, fontweight='bold')\n",
        "    plt.title('Model Accuracy Across Different Test Datasets', fontsize=14, fontweight='bold')\n",
        "    plt.ylim(0, 1)\n",
        "    plt.grid(True, alpha=0.3)\n",
        "    plt.tight_layout()\n",
        "    plt.show()\n",
        "\n",
        "    # 4. Heatmap of all metrics across datasets\n",
        "    plt.figure(figsize=(10, 6))\n",
        "\n",
        "    # Create matrix for heatmap\n",
        "    metrics_matrix = []\n",
        "    for dataset in datasets:\n",
        "        metrics_matrix.append([results[dataset][metric] for metric in metrics_names])\n",
        "\n",
        "    # Create heatmap\n",
        "    sns.heatmap(metrics_matrix, annot=True, fmt='.3f', cmap='RdYlGn',\n",
        "               xticklabels=metrics_names, yticklabels=datasets,\n",
        "               cbar_kws={'label': 'Score'}, annot_kws={'fontsize': 12})\n",
        "\n",
        "    plt.title('Performance Metrics Heatmap Across Datasets', fontsize=14, fontweight='bold')\n",
        "    plt.xlabel('Metrics', fontsize=12, fontweight='bold')\n",
        "    plt.ylabel('Datasets', fontsize=12, fontweight='bold')\n",
        "    plt.tight_layout()\n",
        "    plt.show()\n",
        "\n",
        "    print(\"\\n\" + \"=\"*60)\n",
        "    print(\"VISUALIZATION COMPLETE\")\n",
        "    print(\"=\"*60)\n",
        "    print(\"Generated visualizations:\")\n",
        "    print(\"1. Bar chart comparing all metrics across datasets\")\n",
        "    print(\"2. Confusion matrices for all three datasets\")\n",
        "    print(\"3. Accuracy comparison line plot\")\n",
        "    print(\"4. Performance metrics heatmap\")\n",
        "\n",
        "except Exception as e:\n",
        "    print(f\"Error during evaluation: {e}\")\n",
        "    import traceback\n",
        "    traceback.print_exc()\n"
      ],
      "metadata": {
        "id": "1f7gZ5yUZuQh",
        "colab": {
          "base_uri": "https://localhost:8080/",
          "height": 1000
        },
        "outputId": "574a623b-eb31-4952-e044-76e6e52ce9b0"
      },
      "execution_count": null,
      "outputs": [
        {
          "output_type": "stream",
          "name": "stdout",
          "text": [
            "Loading test datasets...\n",
            "\n",
            "Evaluating on Amazon Test...\n",
            "Results for Amazon Test:\n",
            "  Accuracy: 0.8947\n",
            "  Precision: 0.8959\n",
            "  Recall: 0.8947\n",
            "  F1 Score: 0.8946\n",
            "\n",
            "Classification Report for Amazon Test:\n",
            "              precision    recall  f1-score   support\n",
            "\n",
            "           0       0.87      0.92      0.90     10000\n",
            "           1       0.92      0.87      0.89     10000\n",
            "\n",
            "    accuracy                           0.89     20000\n",
            "   macro avg       0.90      0.89      0.89     20000\n",
            "weighted avg       0.90      0.89      0.89     20000\n",
            "\n",
            "\n",
            "Evaluating on IMDB Test...\n",
            "Results for IMDB Test:\n",
            "  Accuracy: 0.7678\n",
            "  Precision: 0.7681\n",
            "  Recall: 0.7678\n",
            "  F1 Score: 0.7677\n",
            "\n",
            "Classification Report for IMDB Test:\n",
            "              precision    recall  f1-score   support\n",
            "\n",
            "           0       0.76      0.79      0.77     10000\n",
            "           1       0.78      0.75      0.76     10000\n",
            "\n",
            "    accuracy                           0.77     20000\n",
            "   macro avg       0.77      0.77      0.77     20000\n",
            "weighted avg       0.77      0.77      0.77     20000\n",
            "\n",
            "\n",
            "Evaluating on Education Test...\n",
            "Results for Education Test:\n",
            "  Accuracy: 0.8972\n",
            "  Precision: 0.8990\n",
            "  Recall: 0.8972\n",
            "  F1 Score: 0.8971\n",
            "\n",
            "Classification Report for Education Test:\n",
            "              precision    recall  f1-score   support\n",
            "\n",
            "           0       0.93      0.86      0.89     10000\n",
            "           1       0.87      0.93      0.90     10000\n",
            "\n",
            "    accuracy                           0.90     20000\n",
            "   macro avg       0.90      0.90      0.90     20000\n",
            "weighted avg       0.90      0.90      0.90     20000\n",
            "\n",
            "\n",
            "============================================================\n",
            "FINAL RESULTS SUMMARY\n",
            "============================================================\n",
            "Dataset         Accuracy   Precision  Recall     F1 Score  \n",
            "------------------------------------------------------------\n",
            "Amazon Test     0.8947     0.8959     0.8947     0.8946    \n",
            "IMDB Test       0.7678     0.7681     0.7678     0.7677    \n",
            "Education Test  0.8972     0.8990     0.8972     0.8971    \n"
          ]
        },
        {
          "output_type": "display_data",
          "data": {
            "text/plain": [
              "<Figure size 1400x800 with 1 Axes>"
            ],
            "image/png": "[encoded data removed]"
          },
          "metadata": {}
        },
        {
          "output_type": "display_data",
          "data": {
            "text/plain": [
              "<Figure size 1800x500 with 6 Axes>"
            ],
            "image/png": "[encoded data removed]"
          },
          "metadata": {}
        },
        {
          "output_type": "display_data",
          "data": {
            "text/plain": [
              "<Figure size 1000x600 with 1 Axes>"
            ],
            "image/png": "[encoded data removed]"
          },
          "metadata": {}
        },
        {
          "output_type": "display_data",
          "data": {
            "text/plain": [
              "<Figure size 1000x600 with 2 Axes>"
            ],
            "image/png": "[encoded data removed]"
          },
          "metadata": {}
        },
        {
          "output_type": "stream",
          "name": "stdout",
          "text": [
            "\n",
            "============================================================\n",
            "VISUALIZATION COMPLETE\n",
            "============================================================\n",
            "Generated visualizations:\n",
            "1. Bar chart comparing all metrics across datasets\n",
            "2. Confusion matrices for all three datasets\n",
            "3. Accuracy comparison line plot\n",
            "4. Performance metrics heatmap\n"
          ]
        }
      ]
    },
    {
      "cell_type": "code",
      "source": [
        "import torch\n",
        "import torch.nn as nn\n",
        "from torch.utils.data import DataLoader, Subset\n",
        "from sklearn.model_selection import KFold\n",
        "from sklearn.metrics import accuracy_score, precision_score, recall_score, f1_score\n",
        "import numpy as np\n",
        "from tqdm import tqdm\n",
        "\n",
        "def k_fold_cross_validation(dataset, model_class, k_folds=10, batch_size=32, epochs=20, lr=2e-4):\n",
        "    \"\"\"\n",
        "    Perform K-Fold Cross-Validation on your feature attention fusion model\n",
        "    \"\"\"\n",
        "    # Initialize KFold\n",
        "    kfold = KFold(n_splits=k_folds, shuffle=True, random_state=42)\n",
        "\n",
        "    # Storage for results\n",
        "    fold_results = {\n",
        "        'accuracy': [],\n",
        "        'precision': [],\n",
        "        'recall': [],\n",
        "        'f1': []\n",
        "    }\n",
        "\n",
        "    # Get feature dimensions from dataset\n",
        "    sample_bert, sample_lex, sample_syn, sample_label = dataset[0]\n",
        "    dim_bert = sample_bert.shape[0]\n",
        "    dim_lex = sample_lex.shape[0]\n",
        "    dim_syn = sample_syn.shape[0]\n",
        "    num_classes = len(np.unique(dataset.labels))\n",
        "\n",
        "    device = torch.device(\"cuda\" if torch.cuda.is_available() else \"cpu\")\n",
        "\n",
        "    print(f\"Starting {k_folds}-Fold Cross-Validation...\")\n",
        "\n",
        "    for fold, (train_indices, val_indices) in enumerate(kfold.split(range(len(dataset)))):\n",
        "        print(f\"\\nFold {fold + 1}/{k_folds}\")\n",
        "        print(\"-\" * 30)\n",
        "\n",
        "        # Create data subsets\n",
        "        train_subset = Subset(dataset, train_indices)\n",
        "        val_subset = Subset(dataset, val_indices)\n",
        "\n",
        "        # Create data loaders\n",
        "        train_loader = DataLoader(train_subset, batch_size=batch_size, shuffle=True)\n",
        "        val_loader = DataLoader(val_subset, batch_size=batch_size, shuffle=False)\n",
        "\n",
        "        # Initialize model\n",
        "        model = model_class(\n",
        "            bert_dim=dim_bert,\n",
        "            lex_dim=dim_lex,\n",
        "            syn_dim=dim_syn,\n",
        "            hidden_dim=128,\n",
        "            num_classes=num_classes\n",
        "        ).to(device)\n",
        "\n",
        "        # Initialize optimizer and loss function\n",
        "        optimizer = torch.optim.Adam(model.parameters(), lr=lr)\n",
        "        criterion = nn.CrossEntropyLoss()\n",
        "\n",
        "        # Training loop\n",
        "        model.train()\n",
        "        for epoch in range(epochs):\n",
        "            epoch_loss = 0\n",
        "            for bert, lex, syn, labels in tqdm(train_loader, desc=f\"Epoch {epoch+1}/{epochs}\"):\n",
        "                bert, lex, syn, labels = bert.to(device), lex.to(device), syn.to(device), labels.to(device)\n",
        "\n",
        "                optimizer.zero_grad()\n",
        "                outputs = model(bert, lex, syn)\n",
        "                loss = criterion(outputs, labels)\n",
        "                loss.backward()\n",
        "                optimizer.step()\n",
        "\n",
        "                epoch_loss += loss.item()\n",
        "\n",
        "            if (epoch + 1) % 5 == 0:\n",
        "                print(f\"Epoch {epoch+1}/{epochs}, Loss: {epoch_loss/len(train_loader):.4f}\")\n",
        "\n",
        "        # Evaluation\n",
        "        model.eval()\n",
        "        all_preds = []\n",
        "        all_labels = []\n",
        "\n",
        "        with torch.no_grad():\n",
        "            for bert, lex, syn, labels in val_loader:\n",
        "                bert, lex, syn = bert.to(device), lex.to(device), syn.to(device)\n",
        "                outputs = model(bert, lex, syn)\n",
        "                preds = torch.argmax(outputs, dim=1).cpu().numpy()\n",
        "\n",
        "                all_preds.extend(preds)\n",
        "                all_labels.extend(labels.numpy())\n",
        "\n",
        "        # Calculate metrics\n",
        "        accuracy = accuracy_score(all_labels, all_preds)\n",
        "        precision = precision_score(all_labels, all_preds, average='weighted')\n",
        "        recall = recall_score(all_labels, all_preds, average='weighted')\n",
        "        f1 = f1_score(all_labels, all_preds, average='weighted')\n",
        "\n",
        "        fold_results['accuracy'].append(accuracy)\n",
        "        fold_results['precision'].append(precision)\n",
        "        fold_results['recall'].append(recall)\n",
        "        fold_results['f1'].append(f1)\n",
        "\n",
        "        print(f\"Fold {fold + 1} Results:\")\n",
        "        print(f\"Accuracy: {accuracy:.4f}\")\n",
        "        print(f\"Precision: {precision:.4f}\")\n",
        "        print(f\"Recall: {recall:.4f}\")\n",
        "        print(f\"F1-Score: {f1:.4f}\")\n",
        "\n",
        "    # Calculate overall results\n",
        "    print(f\"\\n{'='*50}\")\n",
        "    print(\"CROSS-VALIDATION RESULTS\")\n",
        "    print(f\"{'='*50}\")\n",
        "\n",
        "    for metric in fold_results:\n",
        "        values = fold_results[metric]\n",
        "        mean_val = np.mean(values)\n",
        "        std_val = np.std(values)\n",
        "        print(f\"{metric.capitalize()}: {mean_val:.4f} ± {std_val:.4f}\")\n",
        "\n",
        "    return fold_results\n",
        "\n",
        "# Usage with your existing dataset\n",
        "try:\n",
        "    # Load your training dataset\n",
        "    dtrain = load_feature_set(\"amazon_train\")\n",
        "\n",
        "    # Run K-Fold Cross-Validation\n",
        "    results = k_fold_cross_validation(\n",
        "        dataset=dtrain,\n",
        "        model_class=FeatureAttentionFusionModel,\n",
        "        k_folds=10,\n",
        "        batch_size=32,\n",
        "        epochs=15,  # Reduced for cross-validation\n",
        "        lr=2e-4\n",
        "    )\n",
        "\n",
        "    print(\"K-Fold Cross-Validation completed successfully!\")\n",
        "\n",
        "except Exception as e:\n",
        "    print(f\"Error during K-Fold validation: {e}\")\n"
      ],
      "metadata": {
        "colab": {
          "base_uri": "https://localhost:8080/"
        },
        "id": "YJ2EoBFK8jzL",
        "outputId": "075806fe-f53d-443b-cb11-92dac34c7499"
      },
      "execution_count": null,
      "outputs": [
        {
          "output_type": "stream",
          "name": "stdout",
          "text": [
            "Starting 10-Fold Cross-Validation...\n",
            "\n",
            "Fold 1/10\n",
            "------------------------------\n"
          ]
        },
        {
          "output_type": "stream",
          "name": "stderr",
          "text": [
            "Epoch 1/15: 100%|██████████| 4500/4500 [00:17<00:00, 250.29it/s]\n",
            "Epoch 2/15: 100%|██████████| 4500/4500 [00:17<00:00, 250.59it/s]\n",
            "Epoch 3/15: 100%|██████████| 4500/4500 [00:21<00:00, 204.61it/s]\n",
            "Epoch 4/15: 100%|██████████| 4500/4500 [00:21<00:00, 209.19it/s]\n",
            "Epoch 5/15: 100%|██████████| 4500/4500 [00:17<00:00, 252.87it/s]\n"
          ]
        },
        {
          "output_type": "stream",
          "name": "stdout",
          "text": [
            "Epoch 5/15, Loss: 0.2663\n"
          ]
        },
        {
          "output_type": "stream",
          "name": "stderr",
          "text": [
            "Epoch 6/15: 100%|██████████| 4500/4500 [00:17<00:00, 253.89it/s]\n",
            "Epoch 7/15: 100%|██████████| 4500/4500 [00:18<00:00, 241.82it/s]\n",
            "Epoch 8/15: 100%|██████████| 4500/4500 [00:17<00:00, 251.24it/s]\n",
            "Epoch 9/15: 100%|██████████| 4500/4500 [00:17<00:00, 251.00it/s]\n",
            "Epoch 10/15: 100%|██████████| 4500/4500 [00:18<00:00, 240.48it/s]\n"
          ]
        },
        {
          "output_type": "stream",
          "name": "stdout",
          "text": [
            "Epoch 10/15, Loss: 0.2522\n"
          ]
        },
        {
          "output_type": "stream",
          "name": "stderr",
          "text": [
            "Epoch 11/15: 100%|██████████| 4500/4500 [00:17<00:00, 253.31it/s]\n",
            "Epoch 12/15: 100%|██████████| 4500/4500 [00:18<00:00, 247.00it/s]\n",
            "Epoch 13/15: 100%|██████████| 4500/4500 [00:18<00:00, 249.63it/s]\n",
            "Epoch 14/15: 100%|██████████| 4500/4500 [00:17<00:00, 252.77it/s]\n",
            "Epoch 15/15: 100%|██████████| 4500/4500 [00:18<00:00, 243.71it/s]\n"
          ]
        },
        {
          "output_type": "stream",
          "name": "stdout",
          "text": [
            "Epoch 15/15, Loss: 0.2420\n",
            "Fold 1 Results:\n",
            "Accuracy: 0.8879\n",
            "Precision: 0.8895\n",
            "Recall: 0.8879\n",
            "F1-Score: 0.8879\n",
            "\n",
            "Fold 2/10\n",
            "------------------------------\n"
          ]
        },
        {
          "output_type": "stream",
          "name": "stderr",
          "text": [
            "Epoch 1/15: 100%|██████████| 4500/4500 [00:17<00:00, 253.97it/s]\n",
            "Epoch 2/15: 100%|██████████| 4500/4500 [00:17<00:00, 251.26it/s]\n",
            "Epoch 3/15: 100%|██████████| 4500/4500 [00:18<00:00, 242.84it/s]\n",
            "Epoch 4/15: 100%|██████████| 4500/4500 [00:17<00:00, 253.83it/s]\n",
            "Epoch 5/15: 100%|██████████| 4500/4500 [00:18<00:00, 248.81it/s]\n"
          ]
        },
        {
          "output_type": "stream",
          "name": "stdout",
          "text": [
            "Epoch 5/15, Loss: 0.2678\n"
          ]
        },
        {
          "output_type": "stream",
          "name": "stderr",
          "text": [
            "Epoch 6/15: 100%|██████████| 4500/4500 [00:18<00:00, 249.20it/s]\n",
            "Epoch 7/15: 100%|██████████| 4500/4500 [00:17<00:00, 254.59it/s]\n",
            "Epoch 8/15: 100%|██████████| 4500/4500 [00:18<00:00, 242.74it/s]\n",
            "Epoch 9/15: 100%|██████████| 4500/4500 [00:17<00:00, 251.88it/s]\n",
            "Epoch 10/15: 100%|██████████| 4500/4500 [00:17<00:00, 252.16it/s]\n"
          ]
        },
        {
          "output_type": "stream",
          "name": "stdout",
          "text": [
            "Epoch 10/15, Loss: 0.2536\n"
          ]
        },
        {
          "output_type": "stream",
          "name": "stderr",
          "text": [
            "Epoch 11/15: 100%|██████████| 4500/4500 [00:18<00:00, 241.59it/s]\n",
            "Epoch 12/15: 100%|██████████| 4500/4500 [00:17<00:00, 252.11it/s]\n",
            "Epoch 13/15: 100%|██████████| 4500/4500 [00:17<00:00, 252.13it/s]\n",
            "Epoch 14/15: 100%|██████████| 4500/4500 [00:18<00:00, 245.42it/s]\n",
            "Epoch 15/15: 100%|██████████| 4500/4500 [00:17<00:00, 255.75it/s]\n"
          ]
        },
        {
          "output_type": "stream",
          "name": "stdout",
          "text": [
            "Epoch 15/15, Loss: 0.2427\n",
            "Fold 2 Results:\n",
            "Accuracy: 0.8944\n",
            "Precision: 0.8945\n",
            "Recall: 0.8944\n",
            "F1-Score: 0.8944\n",
            "\n",
            "Fold 3/10\n",
            "------------------------------\n"
          ]
        },
        {
          "output_type": "stream",
          "name": "stderr",
          "text": [
            "Epoch 1/15: 100%|██████████| 4500/4500 [00:18<00:00, 247.34it/s]\n",
            "Epoch 2/15: 100%|██████████| 4500/4500 [00:17<00:00, 252.92it/s]\n",
            "Epoch 3/15: 100%|██████████| 4500/4500 [00:17<00:00, 254.94it/s]\n",
            "Epoch 4/15: 100%|██████████| 4500/4500 [00:18<00:00, 241.04it/s]\n",
            "Epoch 5/15: 100%|██████████| 4500/4500 [00:18<00:00, 242.67it/s]\n"
          ]
        },
        {
          "output_type": "stream",
          "name": "stdout",
          "text": [
            "Epoch 5/15, Loss: 0.2668\n"
          ]
        },
        {
          "output_type": "stream",
          "name": "stderr",
          "text": [
            "Epoch 6/15: 100%|██████████| 4500/4500 [00:18<00:00, 246.04it/s]\n",
            "Epoch 7/15: 100%|██████████| 4500/4500 [00:18<00:00, 237.19it/s]\n",
            "Epoch 8/15: 100%|██████████| 4500/4500 [00:17<00:00, 250.79it/s]\n",
            "Epoch 9/15: 100%|██████████| 4500/4500 [00:18<00:00, 242.41it/s]\n",
            "Epoch 10/15: 100%|██████████| 4500/4500 [00:17<00:00, 251.49it/s]\n"
          ]
        },
        {
          "output_type": "stream",
          "name": "stdout",
          "text": [
            "Epoch 10/15, Loss: 0.2522\n"
          ]
        },
        {
          "output_type": "stream",
          "name": "stderr",
          "text": [
            "Epoch 11/15: 100%|██████████| 4500/4500 [00:17<00:00, 251.41it/s]\n",
            "Epoch 12/15: 100%|██████████| 4500/4500 [00:18<00:00, 240.75it/s]\n",
            "Epoch 13/15: 100%|██████████| 4500/4500 [00:17<00:00, 251.81it/s]\n",
            "Epoch 14/15: 100%|██████████| 4500/4500 [00:18<00:00, 245.26it/s]\n",
            "Epoch 15/15: 100%|██████████| 4500/4500 [00:18<00:00, 242.14it/s]\n"
          ]
        },
        {
          "output_type": "stream",
          "name": "stdout",
          "text": [
            "Epoch 15/15, Loss: 0.2431\n",
            "Fold 3 Results:\n",
            "Accuracy: 0.8984\n",
            "Precision: 0.8984\n",
            "Recall: 0.8984\n",
            "F1-Score: 0.8984\n",
            "\n",
            "Fold 4/10\n",
            "------------------------------\n"
          ]
        },
        {
          "output_type": "stream",
          "name": "stderr",
          "text": [
            "Epoch 1/15: 100%|██████████| 4500/4500 [00:18<00:00, 248.94it/s]\n",
            "Epoch 2/15: 100%|██████████| 4500/4500 [00:18<00:00, 239.84it/s]\n",
            "Epoch 3/15: 100%|██████████| 4500/4500 [00:17<00:00, 254.46it/s]\n",
            "Epoch 4/15: 100%|██████████| 4500/4500 [00:17<00:00, 253.48it/s]\n",
            "Epoch 5/15: 100%|██████████| 4500/4500 [00:19<00:00, 235.96it/s]\n"
          ]
        },
        {
          "output_type": "stream",
          "name": "stdout",
          "text": [
            "Epoch 5/15, Loss: 0.2684\n"
          ]
        },
        {
          "output_type": "stream",
          "name": "stderr",
          "text": [
            "Epoch 6/15: 100%|██████████| 4500/4500 [00:18<00:00, 247.74it/s]\n",
            "Epoch 7/15: 100%|██████████| 4500/4500 [00:18<00:00, 240.09it/s]\n",
            "Epoch 8/15: 100%|██████████| 4500/4500 [00:18<00:00, 245.19it/s]\n",
            "Epoch 9/15: 100%|██████████| 4500/4500 [00:17<00:00, 253.77it/s]\n",
            "Epoch 10/15: 100%|██████████| 4500/4500 [00:18<00:00, 241.48it/s]\n"
          ]
        },
        {
          "output_type": "stream",
          "name": "stdout",
          "text": [
            "Epoch 10/15, Loss: 0.2546\n"
          ]
        },
        {
          "output_type": "stream",
          "name": "stderr",
          "text": [
            "Epoch 11/15: 100%|██████████| 4500/4500 [00:17<00:00, 253.89it/s]\n",
            "Epoch 12/15: 100%|██████████| 4500/4500 [00:17<00:00, 254.20it/s]\n",
            "Epoch 13/15: 100%|██████████| 4500/4500 [00:18<00:00, 243.40it/s]\n",
            "Epoch 14/15: 100%|██████████| 4500/4500 [00:17<00:00, 252.05it/s]\n",
            "Epoch 15/15: 100%|██████████| 4500/4500 [00:17<00:00, 250.70it/s]\n"
          ]
        },
        {
          "output_type": "stream",
          "name": "stdout",
          "text": [
            "Epoch 15/15, Loss: 0.2442\n",
            "Fold 4 Results:\n",
            "Accuracy: 0.8931\n",
            "Precision: 0.8936\n",
            "Recall: 0.8931\n",
            "F1-Score: 0.8931\n",
            "\n",
            "Fold 5/10\n",
            "------------------------------\n"
          ]
        },
        {
          "output_type": "stream",
          "name": "stderr",
          "text": [
            "Epoch 1/15: 100%|██████████| 4500/4500 [00:18<00:00, 248.05it/s]\n",
            "Epoch 2/15: 100%|██████████| 4500/4500 [00:18<00:00, 246.76it/s]\n",
            "Epoch 3/15: 100%|██████████| 4500/4500 [00:19<00:00, 235.64it/s]\n",
            "Epoch 4/15: 100%|██████████| 4500/4500 [00:18<00:00, 249.67it/s]\n",
            "Epoch 5/15: 100%|██████████| 4500/4500 [00:18<00:00, 242.95it/s]\n"
          ]
        },
        {
          "output_type": "stream",
          "name": "stdout",
          "text": [
            "Epoch 5/15, Loss: 0.2657\n"
          ]
        },
        {
          "output_type": "stream",
          "name": "stderr",
          "text": [
            "Epoch 6/15: 100%|██████████| 4500/4500 [00:18<00:00, 236.97it/s]\n",
            "Epoch 7/15: 100%|██████████| 4500/4500 [00:18<00:00, 246.91it/s]\n",
            "Epoch 8/15: 100%|██████████| 4500/4500 [00:18<00:00, 241.93it/s]\n",
            "Epoch 9/15: 100%|██████████| 4500/4500 [00:18<00:00, 249.28it/s]\n",
            "Epoch 10/15: 100%|██████████| 4500/4500 [00:17<00:00, 250.36it/s]\n"
          ]
        },
        {
          "output_type": "stream",
          "name": "stdout",
          "text": [
            "Epoch 10/15, Loss: 0.2533\n"
          ]
        },
        {
          "output_type": "stream",
          "name": "stderr",
          "text": [
            "Epoch 11/15: 100%|██████████| 4500/4500 [00:18<00:00, 237.86it/s]\n",
            "Epoch 12/15: 100%|██████████| 4500/4500 [00:18<00:00, 247.99it/s]\n",
            "Epoch 13/15: 100%|██████████| 4500/4500 [00:18<00:00, 243.45it/s]\n",
            "Epoch 14/15: 100%|██████████| 4500/4500 [00:18<00:00, 241.22it/s]\n",
            "Epoch 15/15: 100%|██████████| 4500/4500 [00:17<00:00, 251.17it/s]\n"
          ]
        },
        {
          "output_type": "stream",
          "name": "stdout",
          "text": [
            "Epoch 15/15, Loss: 0.2435\n",
            "Fold 5 Results:\n",
            "Accuracy: 0.8908\n",
            "Precision: 0.8919\n",
            "Recall: 0.8908\n",
            "F1-Score: 0.8907\n",
            "\n",
            "Fold 6/10\n",
            "------------------------------\n"
          ]
        },
        {
          "output_type": "stream",
          "name": "stderr",
          "text": [
            "Epoch 1/15: 100%|██████████| 4500/4500 [00:18<00:00, 240.57it/s]\n",
            "Epoch 2/15: 100%|██████████| 4500/4500 [00:17<00:00, 251.85it/s]\n",
            "Epoch 3/15: 100%|██████████| 4500/4500 [00:18<00:00, 244.20it/s]\n",
            "Epoch 4/15: 100%|██████████| 4500/4500 [00:18<00:00, 243.51it/s]\n",
            "Epoch 5/15: 100%|██████████| 4500/4500 [00:17<00:00, 252.36it/s]\n"
          ]
        },
        {
          "output_type": "stream",
          "name": "stdout",
          "text": [
            "Epoch 5/15, Loss: 0.2673\n"
          ]
        },
        {
          "output_type": "stream",
          "name": "stderr",
          "text": [
            "Epoch 6/15: 100%|██████████| 4500/4500 [00:18<00:00, 241.88it/s]\n",
            "Epoch 7/15: 100%|██████████| 4500/4500 [00:18<00:00, 247.96it/s]\n",
            "Epoch 8/15: 100%|██████████| 4500/4500 [00:18<00:00, 249.60it/s]\n",
            "Epoch 9/15: 100%|██████████| 4500/4500 [00:18<00:00, 239.16it/s]\n",
            "Epoch 10/15: 100%|██████████| 4500/4500 [00:17<00:00, 250.53it/s]\n"
          ]
        },
        {
          "output_type": "stream",
          "name": "stdout",
          "text": [
            "Epoch 10/15, Loss: 0.2548\n"
          ]
        },
        {
          "output_type": "stream",
          "name": "stderr",
          "text": [
            "Epoch 11/15: 100%|██████████| 4500/4500 [00:18<00:00, 246.04it/s]\n",
            "Epoch 12/15: 100%|██████████| 4500/4500 [00:18<00:00, 241.77it/s]\n",
            "Epoch 13/15: 100%|██████████| 4500/4500 [00:17<00:00, 252.64it/s]\n",
            "Epoch 14/15: 100%|██████████| 4500/4500 [00:18<00:00, 242.92it/s]\n",
            "Epoch 15/15: 100%|██████████| 4500/4500 [00:18<00:00, 249.19it/s]\n"
          ]
        },
        {
          "output_type": "stream",
          "name": "stdout",
          "text": [
            "Epoch 15/15, Loss: 0.2454\n",
            "Fold 6 Results:\n",
            "Accuracy: 0.8949\n",
            "Precision: 0.8949\n",
            "Recall: 0.8949\n",
            "F1-Score: 0.8949\n",
            "\n",
            "Fold 7/10\n",
            "------------------------------\n"
          ]
        },
        {
          "output_type": "stream",
          "name": "stderr",
          "text": [
            "Epoch 1/15: 100%|██████████| 4500/4500 [00:17<00:00, 251.25it/s]\n",
            "Epoch 2/15: 100%|██████████| 4500/4500 [00:18<00:00, 241.10it/s]\n",
            "Epoch 3/15: 100%|██████████| 4500/4500 [00:17<00:00, 251.48it/s]\n",
            "Epoch 4/15: 100%|██████████| 4500/4500 [00:18<00:00, 249.94it/s]\n",
            "Epoch 5/15: 100%|██████████| 4500/4500 [00:18<00:00, 245.97it/s]\n"
          ]
        },
        {
          "output_type": "stream",
          "name": "stdout",
          "text": [
            "Epoch 5/15, Loss: 0.2672\n"
          ]
        },
        {
          "output_type": "stream",
          "name": "stderr",
          "text": [
            "Epoch 6/15: 100%|██████████| 4500/4500 [00:17<00:00, 253.31it/s]\n",
            "Epoch 7/15: 100%|██████████| 4500/4500 [00:18<00:00, 246.06it/s]\n",
            "Epoch 8/15: 100%|██████████| 4500/4500 [00:17<00:00, 253.12it/s]\n",
            "Epoch 9/15: 100%|██████████| 4500/4500 [00:17<00:00, 254.65it/s]\n",
            "Epoch 10/15: 100%|██████████| 4500/4500 [00:18<00:00, 241.99it/s]\n"
          ]
        },
        {
          "output_type": "stream",
          "name": "stdout",
          "text": [
            "Epoch 10/15, Loss: 0.2527\n"
          ]
        },
        {
          "output_type": "stream",
          "name": "stderr",
          "text": [
            "Epoch 11/15: 100%|██████████| 4500/4500 [00:17<00:00, 254.31it/s]\n",
            "Epoch 12/15: 100%|██████████| 4500/4500 [00:17<00:00, 254.40it/s]\n",
            "Epoch 13/15: 100%|██████████| 4500/4500 [00:18<00:00, 242.07it/s]\n",
            "Epoch 14/15: 100%|██████████| 4500/4500 [00:17<00:00, 252.33it/s]\n",
            "Epoch 15/15: 100%|██████████| 4500/4500 [00:17<00:00, 252.66it/s]\n"
          ]
        },
        {
          "output_type": "stream",
          "name": "stdout",
          "text": [
            "Epoch 15/15, Loss: 0.2440\n",
            "Fold 7 Results:\n",
            "Accuracy: 0.8957\n",
            "Precision: 0.8957\n",
            "Recall: 0.8957\n",
            "F1-Score: 0.8957\n",
            "\n",
            "Fold 8/10\n",
            "------------------------------\n"
          ]
        },
        {
          "output_type": "stream",
          "name": "stderr",
          "text": [
            "Epoch 1/15: 100%|██████████| 4500/4500 [00:17<00:00, 251.38it/s]\n",
            "Epoch 2/15: 100%|██████████| 4500/4500 [00:17<00:00, 254.74it/s]\n",
            "Epoch 3/15: 100%|██████████| 4500/4500 [00:18<00:00, 243.90it/s]\n",
            "Epoch 4/15: 100%|██████████| 4500/4500 [00:17<00:00, 255.03it/s]\n",
            "Epoch 5/15: 100%|██████████| 4500/4500 [00:17<00:00, 255.70it/s]\n"
          ]
        },
        {
          "output_type": "stream",
          "name": "stdout",
          "text": [
            "Epoch 5/15, Loss: 0.2670\n"
          ]
        },
        {
          "output_type": "stream",
          "name": "stderr",
          "text": [
            "Epoch 6/15: 100%|██████████| 4500/4500 [00:18<00:00, 243.64it/s]\n",
            "Epoch 7/15: 100%|██████████| 4500/4500 [00:17<00:00, 252.56it/s]\n",
            "Epoch 8/15: 100%|██████████| 4500/4500 [00:17<00:00, 250.51it/s]\n",
            "Epoch 9/15: 100%|██████████| 4500/4500 [00:18<00:00, 248.62it/s]\n",
            "Epoch 10/15: 100%|██████████| 4500/4500 [00:17<00:00, 254.38it/s]\n"
          ]
        },
        {
          "output_type": "stream",
          "name": "stdout",
          "text": [
            "Epoch 10/15, Loss: 0.2514\n"
          ]
        },
        {
          "output_type": "stream",
          "name": "stderr",
          "text": [
            "Epoch 11/15: 100%|██████████| 4500/4500 [00:17<00:00, 254.70it/s]\n",
            "Epoch 12/15: 100%|██████████| 4500/4500 [00:18<00:00, 247.99it/s]\n",
            "Epoch 13/15: 100%|██████████| 4500/4500 [00:17<00:00, 255.03it/s]\n",
            "Epoch 14/15: 100%|██████████| 4500/4500 [00:18<00:00, 249.81it/s]\n",
            "Epoch 15/15: 100%|██████████| 4500/4500 [00:18<00:00, 248.00it/s]\n"
          ]
        },
        {
          "output_type": "stream",
          "name": "stdout",
          "text": [
            "Epoch 15/15, Loss: 0.2418\n",
            "Fold 8 Results:\n",
            "Accuracy: 0.8911\n",
            "Precision: 0.8913\n",
            "Recall: 0.8911\n",
            "F1-Score: 0.8910\n",
            "\n",
            "Fold 9/10\n",
            "------------------------------\n"
          ]
        },
        {
          "output_type": "stream",
          "name": "stderr",
          "text": [
            "Epoch 1/15: 100%|██████████| 4500/4500 [00:17<00:00, 254.94it/s]\n",
            "Epoch 2/15: 100%|██████████| 4500/4500 [00:18<00:00, 242.26it/s]\n",
            "Epoch 3/15: 100%|██████████| 4500/4500 [00:17<00:00, 253.11it/s]\n",
            "Epoch 4/15: 100%|██████████| 4500/4500 [00:17<00:00, 258.27it/s]\n",
            "Epoch 5/15: 100%|██████████| 4500/4500 [00:18<00:00, 247.22it/s]\n"
          ]
        },
        {
          "output_type": "stream",
          "name": "stdout",
          "text": [
            "Epoch 5/15, Loss: 0.2668\n"
          ]
        },
        {
          "output_type": "stream",
          "name": "stderr",
          "text": [
            "Epoch 6/15: 100%|██████████| 4500/4500 [00:17<00:00, 257.28it/s]\n",
            "Epoch 7/15: 100%|██████████| 4500/4500 [00:17<00:00, 254.06it/s]\n",
            "Epoch 8/15: 100%|██████████| 4500/4500 [00:18<00:00, 245.67it/s]\n",
            "Epoch 9/15: 100%|██████████| 4500/4500 [00:17<00:00, 254.41it/s]\n",
            "Epoch 10/15: 100%|██████████| 4500/4500 [00:18<00:00, 247.64it/s]\n"
          ]
        },
        {
          "output_type": "stream",
          "name": "stdout",
          "text": [
            "Epoch 10/15, Loss: 0.2535\n"
          ]
        },
        {
          "output_type": "stream",
          "name": "stderr",
          "text": [
            "Epoch 11/15: 100%|██████████| 4500/4500 [00:18<00:00, 238.96it/s]\n",
            "Epoch 12/15: 100%|██████████| 4500/4500 [00:17<00:00, 251.12it/s]\n",
            "Epoch 13/15: 100%|██████████| 4500/4500 [00:19<00:00, 236.05it/s]\n",
            "Epoch 14/15: 100%|██████████| 4500/4500 [00:17<00:00, 252.08it/s]\n",
            "Epoch 15/15: 100%|██████████| 4500/4500 [00:17<00:00, 252.25it/s]\n"
          ]
        },
        {
          "output_type": "stream",
          "name": "stdout",
          "text": [
            "Epoch 15/15, Loss: 0.2436\n",
            "Fold 9 Results:\n",
            "Accuracy: 0.8974\n",
            "Precision: 0.8975\n",
            "Recall: 0.8974\n",
            "F1-Score: 0.8974\n",
            "\n",
            "Fold 10/10\n",
            "------------------------------\n"
          ]
        },
        {
          "output_type": "stream",
          "name": "stderr",
          "text": [
            "Epoch 1/15: 100%|██████████| 4500/4500 [00:18<00:00, 246.08it/s]\n",
            "Epoch 2/15: 100%|██████████| 4500/4500 [00:17<00:00, 251.19it/s]\n",
            "Epoch 3/15: 100%|██████████| 4500/4500 [00:18<00:00, 243.61it/s]\n",
            "Epoch 4/15: 100%|██████████| 4500/4500 [00:17<00:00, 250.74it/s]\n",
            "Epoch 5/15: 100%|██████████| 4500/4500 [00:17<00:00, 252.22it/s]\n"
          ]
        },
        {
          "output_type": "stream",
          "name": "stdout",
          "text": [
            "Epoch 5/15, Loss: 0.2661\n"
          ]
        },
        {
          "output_type": "stream",
          "name": "stderr",
          "text": [
            "Epoch 6/15: 100%|██████████| 4500/4500 [00:18<00:00, 242.99it/s]\n",
            "Epoch 7/15: 100%|██████████| 4500/4500 [00:17<00:00, 253.09it/s]\n",
            "Epoch 8/15: 100%|██████████| 4500/4500 [00:17<00:00, 253.42it/s]\n",
            "Epoch 9/15: 100%|██████████| 4500/4500 [00:18<00:00, 242.53it/s]\n",
            "Epoch 10/15: 100%|██████████| 4500/4500 [00:17<00:00, 255.95it/s]\n"
          ]
        },
        {
          "output_type": "stream",
          "name": "stdout",
          "text": [
            "Epoch 10/15, Loss: 0.2545\n"
          ]
        },
        {
          "output_type": "stream",
          "name": "stderr",
          "text": [
            "Epoch 11/15: 100%|██████████| 4500/4500 [00:18<00:00, 248.97it/s]\n",
            "Epoch 12/15: 100%|██████████| 4500/4500 [00:18<00:00, 244.37it/s]\n",
            "Epoch 13/15: 100%|██████████| 4500/4500 [00:17<00:00, 254.16it/s]\n",
            "Epoch 14/15: 100%|██████████| 4500/4500 [00:18<00:00, 246.43it/s]\n",
            "Epoch 15/15: 100%|██████████| 4500/4500 [00:17<00:00, 250.73it/s]\n"
          ]
        },
        {
          "output_type": "stream",
          "name": "stdout",
          "text": [
            "Epoch 15/15, Loss: 0.2435\n",
            "Fold 10 Results:\n",
            "Accuracy: 0.8932\n",
            "Precision: 0.8939\n",
            "Recall: 0.8932\n",
            "F1-Score: 0.8931\n",
            "\n",
            "==================================================\n",
            "CROSS-VALIDATION RESULTS\n",
            "==================================================\n",
            "Accuracy: 0.8937 ± 0.0030\n",
            "Precision: 0.8941 ± 0.0026\n",
            "Recall: 0.8937 ± 0.0030\n",
            "F1: 0.8937 ± 0.0030\n",
            "K-Fold Cross-Validation completed successfully!\n"
          ]
        }
      ]
    },
    {
      "cell_type": "code",
      "source": [
        "from sklearn.model_selection import StratifiedKFold\n",
        "\n",
        "def stratified_k_fold_cross_validation(dataset, model_class, k_folds=10, batch_size=32, epochs=20, lr=2e-4):\n",
        "    \"\"\"\n",
        "    Perform Stratified K-Fold Cross-Validation ensuring balanced class distribution\n",
        "    \"\"\"\n",
        "    # Extract labels for stratification\n",
        "    labels = dataset.labels\n",
        "\n",
        "    # Initialize Stratified KFold\n",
        "    skfold = StratifiedKFold(n_splits=k_folds, shuffle=True, random_state=42)\n",
        "\n",
        "    # Storage for results\n",
        "    fold_results = {\n",
        "        'accuracy': [],\n",
        "        'precision': [],\n",
        "        'recall': [],\n",
        "        'f1': [],\n",
        "        'class_distribution': []\n",
        "    }\n",
        "\n",
        "    # Get feature dimensions\n",
        "    sample_bert, sample_lex, sample_syn, sample_label = dataset[0]\n",
        "    dim_bert = sample_bert.shape[0]\n",
        "    dim_lex = sample_lex.shape[0]\n",
        "    dim_syn = sample_syn.shape[0]\n",
        "    num_classes = len(np.unique(labels))\n",
        "\n",
        "    device = torch.device(\"cuda\" if torch.cuda.is_available() else \"cpu\")\n",
        "\n",
        "    print(f\"Starting {k_folds}-Fold Stratified Cross-Validation...\")\n",
        "    print(f\"Total samples: {len(dataset)}\")\n",
        "    print(f\"Class distribution: {np.bincount(labels)}\")\n",
        "\n",
        "    for fold, (train_indices, val_indices) in enumerate(skfold.split(range(len(dataset)), labels)):\n",
        "        print(f\"\\nFold {fold + 1}/{k_folds}\")\n",
        "        print(\"-\" * 30)\n",
        "\n",
        "        # Check class distribution in this fold\n",
        "        train_labels = labels[train_indices]\n",
        "        val_labels = labels[val_indices]\n",
        "\n",
        "        train_dist = np.bincount(train_labels, minlength=num_classes)\n",
        "        val_dist = np.bincount(val_labels, minlength=num_classes)\n",
        "\n",
        "        print(f\"Train set distribution: {train_dist}\")\n",
        "        print(f\"Validation set distribution: {val_dist}\")\n",
        "        fold_results['class_distribution'].append((train_dist, val_dist))\n",
        "\n",
        "        # Create data subsets\n",
        "        train_subset = Subset(dataset, train_indices)\n",
        "        val_subset = Subset(dataset, val_indices)\n",
        "\n",
        "        # Create data loaders\n",
        "        train_loader = DataLoader(train_subset, batch_size=batch_size, shuffle=True)\n",
        "        val_loader = DataLoader(val_subset, batch_size=batch_size, shuffle=False)\n",
        "\n",
        "        # Initialize model\n",
        "        model = model_class(\n",
        "            bert_dim=dim_bert,\n",
        "            lex_dim=dim_lex,\n",
        "            syn_dim=dim_syn,\n",
        "            hidden_dim=128,\n",
        "            num_classes=num_classes\n",
        "        ).to(device)\n",
        "\n",
        "        # Initialize optimizer and loss function\n",
        "        optimizer = torch.optim.Adam(model.parameters(), lr=lr)\n",
        "        criterion = nn.CrossEntropyLoss()\n",
        "\n",
        "        # Training loop (same as above)\n",
        "        model.train()\n",
        "        for epoch in range(epochs):\n",
        "            epoch_loss = 0\n",
        "            for bert, lex, syn, labels_batch in tqdm(train_loader, desc=f\"Epoch {epoch+1}/{epochs}\"):\n",
        "                bert, lex, syn, labels_batch = bert.to(device), lex.to(device), syn.to(device), labels_batch.to(device)\n",
        "\n",
        "                optimizer.zero_grad()\n",
        "                outputs = model(bert, lex, syn)\n",
        "                loss = criterion(outputs, labels_batch)\n",
        "                loss.backward()\n",
        "                optimizer.step()\n",
        "\n",
        "                epoch_loss += loss.item()\n",
        "\n",
        "        # Evaluation (same as above)\n",
        "        model.eval()\n",
        "        all_preds = []\n",
        "        all_labels = []\n",
        "\n",
        "        with torch.no_grad():\n",
        "            for bert, lex, syn, labels_batch in val_loader:\n",
        "                bert, lex, syn = bert.to(device), lex.to(device), syn.to(device)\n",
        "                outputs = model(bert, lex, syn)\n",
        "                preds = torch.argmax(outputs, dim=1).cpu().numpy()\n",
        "\n",
        "                all_preds.extend(preds)\n",
        "                all_labels.extend(labels_batch.numpy())\n",
        "\n",
        "        # Calculate metrics\n",
        "        accuracy = accuracy_score(all_labels, all_preds)\n",
        "        precision = precision_score(all_labels, all_preds, average='weighted')\n",
        "        recall = recall_score(all_labels, all_preds, average='weighted')\n",
        "        f1 = f1_score(all_labels, all_preds, average='weighted')\n",
        "\n",
        "        fold_results['accuracy'].append(accuracy)\n",
        "        fold_results['precision'].append(precision)\n",
        "        fold_results['recall'].append(recall)\n",
        "        fold_results['f1'].append(f1)\n",
        "\n",
        "        print(f\"Fold {fold + 1} Results:\")\n",
        "        print(f\"Accuracy: {accuracy:.4f}\")\n",
        "        print(f\"Precision: {precision:.4f}\")\n",
        "        print(f\"Recall: {recall:.4f}\")\n",
        "        print(f\"F1-Score: {f1:.4f}\")\n",
        "\n",
        "    # Calculate overall results\n",
        "    print(f\"\\n{'='*50}\")\n",
        "    print(\"STRATIFIED CROSS-VALIDATION RESULTS\")\n",
        "    print(f\"{'='*50}\")\n",
        "\n",
        "    for metric in ['accuracy', 'precision', 'recall', 'f1']:\n",
        "        values = fold_results[metric]\n",
        "        mean_val = np.mean(values)\n",
        "        std_val = np.std(values)\n",
        "        print(f\"{metric.capitalize()}: {mean_val:.4f} ± {std_val:.4f}\")\n",
        "\n",
        "    return fold_results\n",
        "\n",
        "# Usage\n",
        "try:\n",
        "    dtrain = load_feature_set(\"amazon_train\")\n",
        "\n",
        "    results = stratified_k_fold_cross_validation(\n",
        "        dataset=dtrain,\n",
        "        model_class=FeatureAttentionFusionModel,\n",
        "        k_folds=10,\n",
        "        batch_size=32,\n",
        "        epochs=15,\n",
        "        lr=2e-4\n",
        "    )\n",
        "\n",
        "    print(\"Stratified K-Fold Cross-Validation completed!\")\n",
        "\n",
        "except Exception as e:\n",
        "    print(f\"Error during Stratified K-Fold validation: {e}\")\n"
      ],
      "metadata": {
        "colab": {
          "base_uri": "https://localhost:8080/"
        },
        "id": "Elv1v5ur_B9n",
        "outputId": "64625234-32c7-407a-cb6b-9772b077e1bb"
      },
      "execution_count": null,
      "outputs": [
        {
          "output_type": "stream",
          "name": "stdout",
          "text": [
            "Starting 10-Fold Stratified Cross-Validation...\n",
            "Total samples: 160000\n",
            "Class distribution: [80000 80000]\n",
            "\n",
            "Fold 1/10\n",
            "------------------------------\n",
            "Train set distribution: [72000 72000]\n",
            "Validation set distribution: [8000 8000]\n"
          ]
        },
        {
          "output_type": "stream",
          "name": "stderr",
          "text": [
            "Epoch 1/15: 100%|██████████| 4500/4500 [00:17<00:00, 252.57it/s]\n",
            "Epoch 2/15: 100%|██████████| 4500/4500 [00:18<00:00, 247.83it/s]\n",
            "Epoch 3/15: 100%|██████████| 4500/4500 [00:17<00:00, 250.79it/s]\n",
            "Epoch 4/15: 100%|██████████| 4500/4500 [00:17<00:00, 258.14it/s]\n",
            "Epoch 5/15: 100%|██████████| 4500/4500 [00:18<00:00, 246.81it/s]\n",
            "Epoch 6/15: 100%|██████████| 4500/4500 [00:17<00:00, 253.14it/s]\n",
            "Epoch 7/15: 100%|██████████| 4500/4500 [00:17<00:00, 256.25it/s]\n",
            "Epoch 8/15: 100%|██████████| 4500/4500 [00:18<00:00, 243.24it/s]\n",
            "Epoch 9/15: 100%|██████████| 4500/4500 [00:17<00:00, 253.76it/s]\n",
            "Epoch 10/15: 100%|██████████| 4500/4500 [00:17<00:00, 253.71it/s]\n",
            "Epoch 11/15: 100%|██████████| 4500/4500 [00:18<00:00, 244.37it/s]\n",
            "Epoch 12/15: 100%|██████████| 4500/4500 [00:17<00:00, 250.34it/s]\n",
            "Epoch 13/15: 100%|██████████| 4500/4500 [00:17<00:00, 253.59it/s]\n",
            "Epoch 14/15: 100%|██████████| 4500/4500 [00:18<00:00, 242.11it/s]\n",
            "Epoch 15/15: 100%|██████████| 4500/4500 [00:17<00:00, 254.38it/s]\n"
          ]
        },
        {
          "output_type": "stream",
          "name": "stdout",
          "text": [
            "Fold 1 Results:\n",
            "Accuracy: 0.8901\n",
            "Precision: 0.8910\n",
            "Recall: 0.8901\n",
            "F1-Score: 0.8901\n",
            "\n",
            "Fold 2/10\n",
            "------------------------------\n",
            "Train set distribution: [72000 72000]\n",
            "Validation set distribution: [8000 8000]\n"
          ]
        },
        {
          "output_type": "stream",
          "name": "stderr",
          "text": [
            "Epoch 1/15: 100%|██████████| 4500/4500 [00:18<00:00, 246.35it/s]\n",
            "Epoch 2/15: 100%|██████████| 4500/4500 [00:17<00:00, 251.84it/s]\n",
            "Epoch 3/15: 100%|██████████| 4500/4500 [00:17<00:00, 254.00it/s]\n",
            "Epoch 4/15: 100%|██████████| 4500/4500 [00:18<00:00, 243.23it/s]\n",
            "Epoch 5/15: 100%|██████████| 4500/4500 [00:17<00:00, 255.95it/s]\n",
            "Epoch 6/15: 100%|██████████| 4500/4500 [00:18<00:00, 245.06it/s]\n",
            "Epoch 7/15: 100%|██████████| 4500/4500 [00:18<00:00, 242.88it/s]\n",
            "Epoch 8/15: 100%|██████████| 4500/4500 [00:17<00:00, 255.52it/s]\n",
            "Epoch 9/15: 100%|██████████| 4500/4500 [00:17<00:00, 251.64it/s]\n",
            "Epoch 10/15: 100%|██████████| 4500/4500 [00:18<00:00, 243.23it/s]\n",
            "Epoch 11/15: 100%|██████████| 4500/4500 [00:17<00:00, 254.79it/s]\n",
            "Epoch 12/15: 100%|██████████| 4500/4500 [00:18<00:00, 248.18it/s]\n",
            "Epoch 13/15: 100%|██████████| 4500/4500 [00:18<00:00, 247.30it/s]\n",
            "Epoch 14/15: 100%|██████████| 4500/4500 [00:18<00:00, 249.70it/s]\n",
            "Epoch 15/15: 100%|██████████| 4500/4500 [00:18<00:00, 244.54it/s]\n"
          ]
        },
        {
          "output_type": "stream",
          "name": "stdout",
          "text": [
            "Fold 2 Results:\n",
            "Accuracy: 0.8886\n",
            "Precision: 0.8895\n",
            "Recall: 0.8886\n",
            "F1-Score: 0.8885\n",
            "\n",
            "Fold 3/10\n",
            "------------------------------\n",
            "Train set distribution: [72000 72000]\n",
            "Validation set distribution: [8000 8000]\n"
          ]
        },
        {
          "output_type": "stream",
          "name": "stderr",
          "text": [
            "Epoch 1/15: 100%|██████████| 4500/4500 [00:17<00:00, 256.17it/s]\n",
            "Epoch 2/15: 100%|██████████| 4500/4500 [00:17<00:00, 253.30it/s]\n",
            "Epoch 3/15: 100%|██████████| 4500/4500 [00:18<00:00, 245.10it/s]\n",
            "Epoch 4/15: 100%|██████████| 4500/4500 [00:17<00:00, 257.11it/s]\n",
            "Epoch 5/15: 100%|██████████| 4500/4500 [00:18<00:00, 248.70it/s]\n",
            "Epoch 6/15: 100%|██████████| 4500/4500 [00:18<00:00, 249.22it/s]\n",
            "Epoch 7/15: 100%|██████████| 4500/4500 [00:17<00:00, 256.42it/s]\n",
            "Epoch 8/15: 100%|██████████| 4500/4500 [00:18<00:00, 245.54it/s]\n",
            "Epoch 9/15: 100%|██████████| 4500/4500 [00:18<00:00, 247.93it/s]\n",
            "Epoch 10/15: 100%|██████████| 4500/4500 [00:17<00:00, 255.71it/s]\n",
            "Epoch 11/15: 100%|██████████| 4500/4500 [00:18<00:00, 244.00it/s]\n",
            "Epoch 12/15: 100%|██████████| 4500/4500 [00:17<00:00, 254.39it/s]\n",
            "Epoch 13/15: 100%|██████████| 4500/4500 [00:17<00:00, 255.87it/s]\n",
            "Epoch 14/15: 100%|██████████| 4500/4500 [00:18<00:00, 243.82it/s]\n",
            "Epoch 15/15: 100%|██████████| 4500/4500 [00:17<00:00, 255.63it/s]\n"
          ]
        },
        {
          "output_type": "stream",
          "name": "stdout",
          "text": [
            "Fold 3 Results:\n",
            "Accuracy: 0.8943\n",
            "Precision: 0.8948\n",
            "Recall: 0.8943\n",
            "F1-Score: 0.8943\n",
            "\n",
            "Fold 4/10\n",
            "------------------------------\n",
            "Train set distribution: [72000 72000]\n",
            "Validation set distribution: [8000 8000]\n"
          ]
        },
        {
          "output_type": "stream",
          "name": "stderr",
          "text": [
            "Epoch 1/15: 100%|██████████| 4500/4500 [00:18<00:00, 246.19it/s]\n",
            "Epoch 2/15: 100%|██████████| 4500/4500 [00:18<00:00, 245.52it/s]\n",
            "Epoch 3/15: 100%|██████████| 4500/4500 [00:17<00:00, 255.07it/s]\n",
            "Epoch 4/15: 100%|██████████| 4500/4500 [00:18<00:00, 247.14it/s]\n",
            "Epoch 5/15: 100%|██████████| 4500/4500 [00:18<00:00, 249.56it/s]\n",
            "Epoch 6/15: 100%|██████████| 4500/4500 [00:17<00:00, 256.00it/s]\n",
            "Epoch 7/15: 100%|██████████| 4500/4500 [00:18<00:00, 242.29it/s]\n",
            "Epoch 8/15: 100%|██████████| 4500/4500 [00:17<00:00, 256.44it/s]\n",
            "Epoch 9/15: 100%|██████████| 4500/4500 [00:17<00:00, 254.89it/s]\n",
            "Epoch 10/15: 100%|██████████| 4500/4500 [00:18<00:00, 243.78it/s]\n",
            "Epoch 11/15: 100%|██████████| 4500/4500 [00:17<00:00, 253.50it/s]\n",
            "Epoch 12/15: 100%|██████████| 4500/4500 [00:17<00:00, 254.98it/s]\n",
            "Epoch 13/15: 100%|██████████| 4500/4500 [00:18<00:00, 243.58it/s]\n",
            "Epoch 14/15: 100%|██████████| 4500/4500 [00:17<00:00, 252.24it/s]\n",
            "Epoch 15/15: 100%|██████████| 4500/4500 [00:17<00:00, 253.14it/s]\n"
          ]
        },
        {
          "output_type": "stream",
          "name": "stdout",
          "text": [
            "Fold 4 Results:\n",
            "Accuracy: 0.8959\n",
            "Precision: 0.8966\n",
            "Recall: 0.8959\n",
            "F1-Score: 0.8959\n",
            "\n",
            "Fold 5/10\n",
            "------------------------------\n",
            "Train set distribution: [72000 72000]\n",
            "Validation set distribution: [8000 8000]\n"
          ]
        },
        {
          "output_type": "stream",
          "name": "stderr",
          "text": [
            "Epoch 1/15: 100%|██████████| 4500/4500 [00:18<00:00, 248.64it/s]\n",
            "Epoch 2/15: 100%|██████████| 4500/4500 [00:17<00:00, 252.61it/s]\n",
            "Epoch 3/15: 100%|██████████| 4500/4500 [00:18<00:00, 239.04it/s]\n",
            "Epoch 4/15: 100%|██████████| 4500/4500 [00:17<00:00, 252.08it/s]\n",
            "Epoch 5/15: 100%|██████████| 4500/4500 [00:17<00:00, 254.37it/s]\n",
            "Epoch 6/15: 100%|██████████| 4500/4500 [00:18<00:00, 243.65it/s]\n",
            "Epoch 7/15: 100%|██████████| 4500/4500 [00:17<00:00, 253.31it/s]\n",
            "Epoch 8/15: 100%|██████████| 4500/4500 [00:18<00:00, 249.21it/s]\n",
            "Epoch 9/15: 100%|██████████| 4500/4500 [00:18<00:00, 245.80it/s]\n",
            "Epoch 10/15: 100%|██████████| 4500/4500 [00:17<00:00, 252.79it/s]\n",
            "Epoch 11/15: 100%|██████████| 4500/4500 [00:18<00:00, 245.33it/s]\n",
            "Epoch 12/15: 100%|██████████| 4500/4500 [00:18<00:00, 249.65it/s]\n",
            "Epoch 13/15: 100%|██████████| 4500/4500 [00:17<00:00, 254.06it/s]\n",
            "Epoch 14/15: 100%|██████████| 4500/4500 [00:18<00:00, 241.97it/s]\n",
            "Epoch 15/15: 100%|██████████| 4500/4500 [00:17<00:00, 255.69it/s]\n"
          ]
        },
        {
          "output_type": "stream",
          "name": "stdout",
          "text": [
            "Fold 5 Results:\n",
            "Accuracy: 0.8934\n",
            "Precision: 0.8949\n",
            "Recall: 0.8934\n",
            "F1-Score: 0.8933\n",
            "\n",
            "Fold 6/10\n",
            "------------------------------\n",
            "Train set distribution: [72000 72000]\n",
            "Validation set distribution: [8000 8000]\n"
          ]
        },
        {
          "output_type": "stream",
          "name": "stderr",
          "text": [
            "Epoch 1/15: 100%|██████████| 4500/4500 [00:17<00:00, 251.51it/s]\n",
            "Epoch 2/15: 100%|██████████| 4500/4500 [00:18<00:00, 245.20it/s]\n",
            "Epoch 3/15: 100%|██████████| 4500/4500 [00:17<00:00, 253.31it/s]\n",
            "Epoch 4/15: 100%|██████████| 4500/4500 [00:18<00:00, 245.86it/s]\n",
            "Epoch 5/15: 100%|██████████| 4500/4500 [00:18<00:00, 248.18it/s]\n",
            "Epoch 6/15: 100%|██████████| 4500/4500 [00:17<00:00, 251.74it/s]\n",
            "Epoch 7/15: 100%|██████████| 4500/4500 [00:18<00:00, 244.46it/s]\n",
            "Epoch 8/15: 100%|██████████| 4500/4500 [00:17<00:00, 253.48it/s]\n",
            "Epoch 9/15: 100%|██████████| 4500/4500 [00:17<00:00, 256.49it/s]\n",
            "Epoch 10/15: 100%|██████████| 4500/4500 [00:18<00:00, 241.68it/s]\n",
            "Epoch 11/15: 100%|██████████| 4500/4500 [00:17<00:00, 254.12it/s]\n",
            "Epoch 12/15: 100%|██████████| 4500/4500 [00:17<00:00, 254.48it/s]\n",
            "Epoch 13/15: 100%|██████████| 4500/4500 [00:18<00:00, 242.01it/s]\n",
            "Epoch 14/15: 100%|██████████| 4500/4500 [00:17<00:00, 254.48it/s]\n",
            "Epoch 15/15: 100%|██████████| 4500/4500 [00:17<00:00, 251.34it/s]\n"
          ]
        },
        {
          "output_type": "stream",
          "name": "stdout",
          "text": [
            "Fold 6 Results:\n",
            "Accuracy: 0.8920\n",
            "Precision: 0.8920\n",
            "Recall: 0.8920\n",
            "F1-Score: 0.8920\n",
            "\n",
            "Fold 7/10\n",
            "------------------------------\n",
            "Train set distribution: [72000 72000]\n",
            "Validation set distribution: [8000 8000]\n"
          ]
        },
        {
          "output_type": "stream",
          "name": "stderr",
          "text": [
            "Epoch 1/15: 100%|██████████| 4500/4500 [00:17<00:00, 252.30it/s]\n",
            "Epoch 2/15: 100%|██████████| 4500/4500 [00:17<00:00, 253.23it/s]\n",
            "Epoch 3/15: 100%|██████████| 4500/4500 [00:18<00:00, 244.68it/s]\n",
            "Epoch 4/15: 100%|██████████| 4500/4500 [00:17<00:00, 255.31it/s]\n",
            "Epoch 5/15: 100%|██████████| 4500/4500 [00:17<00:00, 254.17it/s]\n",
            "Epoch 6/15: 100%|██████████| 4500/4500 [00:18<00:00, 243.60it/s]\n",
            "Epoch 7/15: 100%|██████████| 4500/4500 [00:17<00:00, 253.23it/s]\n",
            "Epoch 8/15: 100%|██████████| 4500/4500 [00:17<00:00, 252.00it/s]\n",
            "Epoch 9/15: 100%|██████████| 4500/4500 [00:18<00:00, 242.39it/s]\n",
            "Epoch 10/15: 100%|██████████| 4500/4500 [00:17<00:00, 255.44it/s]\n",
            "Epoch 11/15: 100%|██████████| 4500/4500 [00:17<00:00, 252.20it/s]\n",
            "Epoch 12/15: 100%|██████████| 4500/4500 [00:18<00:00, 244.62it/s]\n",
            "Epoch 13/15: 100%|██████████| 4500/4500 [00:17<00:00, 254.56it/s]\n",
            "Epoch 14/15: 100%|██████████| 4500/4500 [00:18<00:00, 248.12it/s]\n",
            "Epoch 15/15: 100%|██████████| 4500/4500 [00:18<00:00, 248.38it/s]\n"
          ]
        },
        {
          "output_type": "stream",
          "name": "stdout",
          "text": [
            "Fold 7 Results:\n",
            "Accuracy: 0.8918\n",
            "Precision: 0.8919\n",
            "Recall: 0.8918\n",
            "F1-Score: 0.8918\n",
            "\n",
            "Fold 8/10\n",
            "------------------------------\n",
            "Train set distribution: [72000 72000]\n",
            "Validation set distribution: [8000 8000]\n"
          ]
        },
        {
          "output_type": "stream",
          "name": "stderr",
          "text": [
            "Epoch 1/15: 100%|██████████| 4500/4500 [00:17<00:00, 254.83it/s]\n",
            "Epoch 2/15: 100%|██████████| 4500/4500 [00:18<00:00, 242.81it/s]\n",
            "Epoch 3/15: 100%|██████████| 4500/4500 [00:17<00:00, 254.70it/s]\n",
            "Epoch 4/15: 100%|██████████| 4500/4500 [00:17<00:00, 254.43it/s]\n",
            "Epoch 5/15: 100%|██████████| 4500/4500 [00:18<00:00, 241.24it/s]\n",
            "Epoch 6/15: 100%|██████████| 4500/4500 [00:17<00:00, 257.32it/s]\n",
            "Epoch 7/15: 100%|██████████| 4500/4500 [00:17<00:00, 251.25it/s]\n",
            "Epoch 8/15: 100%|██████████| 4500/4500 [00:18<00:00, 247.99it/s]\n",
            "Epoch 9/15: 100%|██████████| 4500/4500 [00:17<00:00, 256.90it/s]\n",
            "Epoch 10/15: 100%|██████████| 4500/4500 [00:18<00:00, 245.04it/s]\n",
            "Epoch 11/15: 100%|██████████| 4500/4500 [00:17<00:00, 250.05it/s]\n",
            "Epoch 12/15: 100%|██████████| 4500/4500 [00:17<00:00, 255.78it/s]\n",
            "Epoch 13/15: 100%|██████████| 4500/4500 [00:18<00:00, 248.29it/s]\n",
            "Epoch 14/15: 100%|██████████| 4500/4500 [00:17<00:00, 251.14it/s]\n",
            "Epoch 15/15: 100%|██████████| 4500/4500 [00:17<00:00, 254.65it/s]\n"
          ]
        },
        {
          "output_type": "stream",
          "name": "stdout",
          "text": [
            "Fold 8 Results:\n",
            "Accuracy: 0.8912\n",
            "Precision: 0.8913\n",
            "Recall: 0.8912\n",
            "F1-Score: 0.8912\n",
            "\n",
            "Fold 9/10\n",
            "------------------------------\n",
            "Train set distribution: [72000 72000]\n",
            "Validation set distribution: [8000 8000]\n"
          ]
        },
        {
          "output_type": "stream",
          "name": "stderr",
          "text": [
            "Epoch 1/15: 100%|██████████| 4500/4500 [00:18<00:00, 243.50it/s]\n",
            "Epoch 2/15: 100%|██████████| 4500/4500 [00:17<00:00, 255.63it/s]\n",
            "Epoch 3/15: 100%|██████████| 4500/4500 [00:17<00:00, 254.67it/s]\n",
            "Epoch 4/15: 100%|██████████| 4500/4500 [00:18<00:00, 243.03it/s]\n",
            "Epoch 5/15: 100%|██████████| 4500/4500 [00:17<00:00, 256.71it/s]\n",
            "Epoch 6/15: 100%|██████████| 4500/4500 [00:17<00:00, 254.49it/s]\n",
            "Epoch 7/15: 100%|██████████| 4500/4500 [00:18<00:00, 247.03it/s]\n",
            "Epoch 8/15: 100%|██████████| 4500/4500 [00:17<00:00, 257.04it/s]\n",
            "Epoch 9/15: 100%|██████████| 4500/4500 [00:17<00:00, 250.58it/s]\n",
            "Epoch 10/15: 100%|██████████| 4500/4500 [00:18<00:00, 246.27it/s]\n",
            "Epoch 11/15: 100%|██████████| 4500/4500 [00:17<00:00, 254.71it/s]\n",
            "Epoch 12/15: 100%|██████████| 4500/4500 [00:18<00:00, 241.36it/s]\n",
            "Epoch 13/15: 100%|██████████| 4500/4500 [00:17<00:00, 255.22it/s]\n",
            "Epoch 14/15: 100%|██████████| 4500/4500 [00:17<00:00, 256.73it/s]\n",
            "Epoch 15/15: 100%|██████████| 4500/4500 [00:18<00:00, 246.67it/s]\n"
          ]
        },
        {
          "output_type": "stream",
          "name": "stdout",
          "text": [
            "Fold 9 Results:\n",
            "Accuracy: 0.8853\n",
            "Precision: 0.8896\n",
            "Recall: 0.8853\n",
            "F1-Score: 0.8850\n",
            "\n",
            "Fold 10/10\n",
            "------------------------------\n",
            "Train set distribution: [72000 72000]\n",
            "Validation set distribution: [8000 8000]\n"
          ]
        },
        {
          "output_type": "stream",
          "name": "stderr",
          "text": [
            "Epoch 1/15: 100%|██████████| 4500/4500 [00:17<00:00, 256.19it/s]\n",
            "Epoch 2/15: 100%|██████████| 4500/4500 [00:17<00:00, 255.73it/s]\n",
            "Epoch 3/15: 100%|██████████| 4500/4500 [00:18<00:00, 244.80it/s]\n",
            "Epoch 4/15: 100%|██████████| 4500/4500 [00:17<00:00, 255.58it/s]\n",
            "Epoch 5/15: 100%|██████████| 4500/4500 [00:17<00:00, 250.96it/s]\n",
            "Epoch 6/15: 100%|██████████| 4500/4500 [00:18<00:00, 247.10it/s]\n",
            "Epoch 7/15: 100%|██████████| 4500/4500 [00:17<00:00, 254.04it/s]\n",
            "Epoch 8/15: 100%|██████████| 4500/4500 [00:18<00:00, 248.99it/s]\n",
            "Epoch 9/15: 100%|██████████| 4500/4500 [00:17<00:00, 250.09it/s]\n",
            "Epoch 10/15: 100%|██████████| 4500/4500 [00:17<00:00, 255.48it/s]\n",
            "Epoch 11/15: 100%|██████████| 4500/4500 [00:18<00:00, 244.97it/s]\n",
            "Epoch 12/15: 100%|██████████| 4500/4500 [00:17<00:00, 255.50it/s]\n",
            "Epoch 13/15: 100%|██████████| 4500/4500 [00:17<00:00, 250.57it/s]\n",
            "Epoch 14/15: 100%|██████████| 4500/4500 [00:18<00:00, 239.98it/s]\n",
            "Epoch 15/15: 100%|██████████| 4500/4500 [00:17<00:00, 253.51it/s]\n"
          ]
        },
        {
          "output_type": "stream",
          "name": "stdout",
          "text": [
            "Fold 10 Results:\n",
            "Accuracy: 0.8856\n",
            "Precision: 0.8892\n",
            "Recall: 0.8856\n",
            "F1-Score: 0.8854\n",
            "\n",
            "==================================================\n",
            "STRATIFIED CROSS-VALIDATION RESULTS\n",
            "==================================================\n",
            "Accuracy: 0.8908 ± 0.0033\n",
            "Precision: 0.8921 ± 0.0024\n",
            "Recall: 0.8908 ± 0.0033\n",
            "F1: 0.8907 ± 0.0034\n",
            "Stratified K-Fold Cross-Validation completed!\n"
          ]
        }
      ]
    },
    {
      "cell_type": "code",
      "source": [
        "from sklearn.model_selection import TimeSeriesSplit\n",
        "\n",
        "def time_series_cross_validation(dataset, model_class, n_splits=10, batch_size=32, epochs=20, lr=2e-4):\n",
        "    \"\"\"\n",
        "    Perform Time-Series Cross-Validation to avoid data leakage\n",
        "    Assumes your dataset has temporal ordering\n",
        "    \"\"\"\n",
        "    # Initialize TimeSeriesSplit\n",
        "    tscv = TimeSeriesSplit(n_splits=n_splits)\n",
        "\n",
        "    # Storage for results\n",
        "    fold_results = {\n",
        "        'accuracy': [],\n",
        "        'precision': [],\n",
        "        'recall': [],\n",
        "        'f1': [],\n",
        "        'train_sizes': [],\n",
        "        'test_sizes': []\n",
        "    }\n",
        "\n",
        "    # Get feature dimensions\n",
        "    sample_bert, sample_lex, sample_syn, sample_label = dataset[0]\n",
        "    dim_bert = sample_bert.shape[0]\n",
        "    dim_lex = sample_lex.shape[0]\n",
        "    dim_syn = sample_syn.shape[0]\n",
        "    num_classes = len(np.unique(dataset.labels))\n",
        "\n",
        "    device = torch.device(\"cuda\" if torch.cuda.is_available() else \"cpu\")\n",
        "\n",
        "    print(f\"Starting Time-Series Cross-Validation with {n_splits} splits...\")\n",
        "    print(f\"Total samples: {len(dataset)}\")\n",
        "\n",
        "    for fold, (train_indices, test_indices) in enumerate(tscv.split(range(len(dataset)))):\n",
        "        print(f\"\\nFold {fold + 1}/{n_splits}\")\n",
        "        print(\"-\" * 30)\n",
        "        print(f\"Train size: {len(train_indices)}, Test size: {len(test_indices)}\")\n",
        "        print(f\"Train indices: {train_indices[0]} to {train_indices[-1]}\")\n",
        "        print(f\"Test indices: {test_indices[0]} to {test_indices[-1]}\")\n",
        "\n",
        "        fold_results['train_sizes'].append(len(train_indices))\n",
        "        fold_results['test_sizes'].append(len(test_indices))\n",
        "\n",
        "        # Create data subsets\n",
        "        train_subset = Subset(dataset, train_indices)\n",
        "        test_subset = Subset(dataset, test_indices)\n",
        "\n",
        "        # Create data loaders\n",
        "        train_loader = DataLoader(train_subset, batch_size=batch_size, shuffle=False)  # No shuffle for time series!\n",
        "        test_loader = DataLoader(test_subset, batch_size=batch_size, shuffle=False)\n",
        "\n",
        "        # Initialize model\n",
        "        model = model_class(\n",
        "            bert_dim=dim_bert,\n",
        "            lex_dim=dim_lex,\n",
        "            syn_dim=dim_syn,\n",
        "            hidden_dim=128,\n",
        "            num_classes=num_classes\n",
        "        ).to(device)\n",
        "\n",
        "        # Initialize optimizer and loss function\n",
        "        optimizer = torch.optim.Adam(model.parameters(), lr=lr)\n",
        "        criterion = nn.CrossEntropyLoss()\n",
        "\n",
        "        # Training loop\n",
        "        model.train()\n",
        "        for epoch in range(epochs):\n",
        "            epoch_loss = 0\n",
        "            for bert, lex, syn, labels in tqdm(train_loader, desc=f\"Epoch {epoch+1}/{epochs}\"):\n",
        "                bert, lex, syn, labels = bert.to(device), lex.to(device), syn.to(device), labels.to(device)\n",
        "\n",
        "                optimizer.zero_grad()\n",
        "                outputs = model(bert, lex, syn)\n",
        "                loss = criterion(outputs, labels)\n",
        "                loss.backward()\n",
        "                optimizer.step()\n",
        "\n",
        "                epoch_loss += loss.item()\n",
        "\n",
        "        # Evaluation\n",
        "        model.eval()\n",
        "        all_preds = []\n",
        "        all_labels = []\n",
        "\n",
        "        with torch.no_grad():\n",
        "            for bert, lex, syn, labels in test_loader:\n",
        "                bert, lex, syn = bert.to(device), lex.to(device), syn.to(device)\n",
        "                outputs = model(bert, lex, syn)\n",
        "                preds = torch.argmax(outputs, dim=1).cpu().numpy()\n",
        "\n",
        "                all_preds.extend(preds)\n",
        "                all_labels.extend(labels.numpy())\n",
        "\n",
        "        # Calculate metrics\n",
        "        accuracy = accuracy_score(all_labels, all_preds)\n",
        "        precision = precision_score(all_labels, all_preds, average='weighted')\n",
        "        recall = recall_score(all_labels, all_preds, average='weighted')\n",
        "        f1 = f1_score(all_labels, all_preds, average='weighted')\n",
        "\n",
        "        fold_results['accuracy'].append(accuracy)\n",
        "        fold_results['precision'].append(precision)\n",
        "        fold_results['recall'].append(recall)\n",
        "        fold_results['f1'].append(f1)\n",
        "\n",
        "        print(f\"Fold {fold + 1} Results:\")\n",
        "        print(f\"Accuracy: {accuracy:.4f}\")\n",
        "        print(f\"Precision: {precision:.4f}\")\n",
        "        print(f\"Recall: {recall:.4f}\")\n",
        "        print(f\"F1-Score: {f1:.4f}\")\n",
        "\n",
        "    # Calculate overall results\n",
        "    print(f\"\\n{'='*50}\")\n",
        "    print(\"TIME-SERIES CROSS-VALIDATION RESULTS\")\n",
        "    print(f\"{'='*50}\")\n",
        "\n",
        "    for metric in ['accuracy', 'precision', 'recall', 'f1']:\n",
        "        values = fold_results[metric]\n",
        "        mean_val = np.mean(values)\n",
        "        std_val = np.std(values)\n",
        "        print(f\"{metric.capitalize()}: {mean_val:.4f} ± {std_val:.4f}\")\n",
        "\n",
        "    return fold_results\n",
        "\n",
        "# Usage\n",
        "try:\n",
        "    dtrain = load_feature_set(\"amazon_train\")\n",
        "\n",
        "    results = time_series_cross_validation(\n",
        "        dataset=dtrain,\n",
        "        model_class=FeatureAttentionFusionModel,\n",
        "        n_splits=10,\n",
        "        batch_size=32,\n",
        "        epochs=15,\n",
        "        lr=2e-4\n",
        "    )\n",
        "\n",
        "    print(\"Time-Series Cross-Validation completed!\")\n",
        "\n",
        "except Exception as e:\n",
        "    print(f\"Error during Time-Series validation: {e}\")\n"
      ],
      "metadata": {
        "colab": {
          "base_uri": "https://localhost:8080/"
        },
        "id": "MzwGcU1r_Cwz",
        "outputId": "f127e8e6-01b5-4f6c-9fb4-e8acea2f8206"
      },
      "execution_count": null,
      "outputs": [
        {
          "output_type": "stream",
          "name": "stdout",
          "text": [
            "Starting Time-Series Cross-Validation with 10 splits...\n",
            "Total samples: 160000\n",
            "\n",
            "Fold 1/10\n",
            "------------------------------\n",
            "Train size: 14550, Test size: 14545\n",
            "Train indices: 0 to 14549\n",
            "Test indices: 14550 to 29094\n"
          ]
        },
        {
          "output_type": "stream",
          "name": "stderr",
          "text": [
            "Epoch 1/15: 100%|██████████| 455/455 [00:01<00:00, 254.91it/s]\n",
            "Epoch 2/15: 100%|██████████| 455/455 [00:01<00:00, 274.37it/s]\n",
            "Epoch 3/15: 100%|██████████| 455/455 [00:01<00:00, 273.97it/s]\n",
            "Epoch 4/15: 100%|██████████| 455/455 [00:01<00:00, 274.53it/s]\n",
            "Epoch 5/15: 100%|██████████| 455/455 [00:01<00:00, 275.46it/s]\n",
            "Epoch 6/15: 100%|██████████| 455/455 [00:01<00:00, 272.53it/s]\n",
            "Epoch 7/15: 100%|██████████| 455/455 [00:02<00:00, 206.98it/s]\n",
            "Epoch 8/15: 100%|██████████| 455/455 [00:01<00:00, 232.64it/s]\n",
            "Epoch 9/15: 100%|██████████| 455/455 [00:01<00:00, 269.74it/s]\n",
            "Epoch 10/15: 100%|██████████| 455/455 [00:01<00:00, 268.03it/s]\n",
            "Epoch 11/15: 100%|██████████| 455/455 [00:01<00:00, 274.34it/s]\n",
            "Epoch 12/15: 100%|██████████| 455/455 [00:01<00:00, 269.58it/s]\n",
            "Epoch 13/15: 100%|██████████| 455/455 [00:01<00:00, 271.44it/s]\n",
            "Epoch 14/15: 100%|██████████| 455/455 [00:01<00:00, 229.23it/s]\n",
            "Epoch 15/15: 100%|██████████| 455/455 [00:02<00:00, 205.40it/s]\n"
          ]
        },
        {
          "output_type": "stream",
          "name": "stdout",
          "text": [
            "Fold 1 Results:\n",
            "Accuracy: 0.8716\n",
            "Precision: 0.8719\n",
            "Recall: 0.8716\n",
            "F1-Score: 0.8716\n",
            "\n",
            "Fold 2/10\n",
            "------------------------------\n",
            "Train size: 29095, Test size: 14545\n",
            "Train indices: 0 to 29094\n",
            "Test indices: 29095 to 43639\n"
          ]
        },
        {
          "output_type": "stream",
          "name": "stderr",
          "text": [
            "Epoch 1/15: 100%|██████████| 910/910 [00:03<00:00, 268.75it/s]\n",
            "Epoch 2/15: 100%|██████████| 910/910 [00:03<00:00, 269.76it/s]\n",
            "Epoch 3/15: 100%|██████████| 910/910 [00:03<00:00, 244.31it/s]\n",
            "Epoch 4/15: 100%|██████████| 910/910 [00:03<00:00, 245.75it/s]\n",
            "Epoch 5/15: 100%|██████████| 910/910 [00:03<00:00, 273.74it/s]\n",
            "Epoch 6/15: 100%|██████████| 910/910 [00:03<00:00, 272.86it/s]\n",
            "Epoch 7/15: 100%|██████████| 910/910 [00:04<00:00, 223.56it/s]\n",
            "Epoch 8/15: 100%|██████████| 910/910 [00:03<00:00, 268.78it/s]\n",
            "Epoch 9/15: 100%|██████████| 910/910 [00:03<00:00, 269.35it/s]\n",
            "Epoch 10/15: 100%|██████████| 910/910 [00:03<00:00, 272.31it/s]\n",
            "Epoch 11/15: 100%|██████████| 910/910 [00:04<00:00, 220.45it/s]\n",
            "Epoch 12/15: 100%|██████████| 910/910 [00:03<00:00, 274.70it/s]\n",
            "Epoch 13/15: 100%|██████████| 910/910 [00:03<00:00, 274.05it/s]\n",
            "Epoch 14/15: 100%|██████████| 910/910 [00:03<00:00, 252.78it/s]\n",
            "Epoch 15/15: 100%|██████████| 910/910 [00:03<00:00, 234.11it/s]\n"
          ]
        },
        {
          "output_type": "stream",
          "name": "stdout",
          "text": [
            "Fold 2 Results:\n",
            "Accuracy: 0.8834\n",
            "Precision: 0.8835\n",
            "Recall: 0.8834\n",
            "F1-Score: 0.8834\n",
            "\n",
            "Fold 3/10\n",
            "------------------------------\n",
            "Train size: 43640, Test size: 14545\n",
            "Train indices: 0 to 43639\n",
            "Test indices: 43640 to 58184\n"
          ]
        },
        {
          "output_type": "stream",
          "name": "stderr",
          "text": [
            "Epoch 1/15: 100%|██████████| 1364/1364 [00:05<00:00, 270.28it/s]\n",
            "Epoch 2/15: 100%|██████████| 1364/1364 [00:05<00:00, 230.68it/s]\n",
            "Epoch 3/15: 100%|██████████| 1364/1364 [00:04<00:00, 276.16it/s]\n",
            "Epoch 4/15: 100%|██████████| 1364/1364 [00:05<00:00, 267.75it/s]\n",
            "Epoch 5/15: 100%|██████████| 1364/1364 [00:05<00:00, 240.65it/s]\n",
            "Epoch 6/15: 100%|██████████| 1364/1364 [00:05<00:00, 271.58it/s]\n",
            "Epoch 7/15: 100%|██████████| 1364/1364 [00:05<00:00, 233.37it/s]\n",
            "Epoch 8/15: 100%|██████████| 1364/1364 [00:05<00:00, 268.62it/s]\n",
            "Epoch 9/15: 100%|██████████| 1364/1364 [00:05<00:00, 257.91it/s]\n",
            "Epoch 10/15: 100%|██████████| 1364/1364 [00:05<00:00, 243.23it/s]\n",
            "Epoch 11/15: 100%|██████████| 1364/1364 [00:05<00:00, 271.84it/s]\n",
            "Epoch 12/15: 100%|██████████| 1364/1364 [00:05<00:00, 232.95it/s]\n",
            "Epoch 13/15: 100%|██████████| 1364/1364 [00:05<00:00, 270.44it/s]\n",
            "Epoch 14/15: 100%|██████████| 1364/1364 [00:05<00:00, 247.77it/s]\n",
            "Epoch 15/15: 100%|██████████| 1364/1364 [00:05<00:00, 248.52it/s]\n"
          ]
        },
        {
          "output_type": "stream",
          "name": "stdout",
          "text": [
            "Fold 3 Results:\n",
            "Accuracy: 0.8835\n",
            "Precision: 0.8843\n",
            "Recall: 0.8835\n",
            "F1-Score: 0.8835\n",
            "\n",
            "Fold 4/10\n",
            "------------------------------\n",
            "Train size: 58185, Test size: 14545\n",
            "Train indices: 0 to 58184\n",
            "Test indices: 58185 to 72729\n"
          ]
        },
        {
          "output_type": "stream",
          "name": "stderr",
          "text": [
            "Epoch 1/15: 100%|██████████| 1819/1819 [00:07<00:00, 252.95it/s]\n",
            "Epoch 2/15: 100%|██████████| 1819/1819 [00:07<00:00, 257.12it/s]\n",
            "Epoch 3/15: 100%|██████████| 1819/1819 [00:07<00:00, 242.13it/s]\n",
            "Epoch 4/15: 100%|██████████| 1819/1819 [00:06<00:00, 271.72it/s]\n",
            "Epoch 5/15: 100%|██████████| 1819/1819 [00:07<00:00, 241.64it/s]\n",
            "Epoch 6/15: 100%|██████████| 1819/1819 [00:06<00:00, 270.41it/s]\n",
            "Epoch 7/15: 100%|██████████| 1819/1819 [00:07<00:00, 243.46it/s]\n",
            "Epoch 8/15: 100%|██████████| 1819/1819 [00:06<00:00, 268.41it/s]\n",
            "Epoch 9/15: 100%|██████████| 1819/1819 [00:07<00:00, 239.49it/s]\n",
            "Epoch 10/15: 100%|██████████| 1819/1819 [00:06<00:00, 274.86it/s]\n",
            "Epoch 11/15: 100%|██████████| 1819/1819 [00:07<00:00, 238.54it/s]\n",
            "Epoch 12/15: 100%|██████████| 1819/1819 [00:06<00:00, 259.99it/s]\n",
            "Epoch 13/15: 100%|██████████| 1819/1819 [00:07<00:00, 251.33it/s]\n",
            "Epoch 14/15: 100%|██████████| 1819/1819 [00:07<00:00, 251.90it/s]\n",
            "Epoch 15/15: 100%|██████████| 1819/1819 [00:06<00:00, 263.95it/s]\n"
          ]
        },
        {
          "output_type": "stream",
          "name": "stdout",
          "text": [
            "Fold 4 Results:\n",
            "Accuracy: 0.8816\n",
            "Precision: 0.8823\n",
            "Recall: 0.8816\n",
            "F1-Score: 0.8815\n",
            "\n",
            "Fold 5/10\n",
            "------------------------------\n",
            "Train size: 72730, Test size: 14545\n",
            "Train indices: 0 to 72729\n",
            "Test indices: 72730 to 87274\n"
          ]
        },
        {
          "output_type": "stream",
          "name": "stderr",
          "text": [
            "Epoch 1/15: 100%|██████████| 2273/2273 [00:09<00:00, 246.49it/s]\n",
            "Epoch 2/15: 100%|██████████| 2273/2273 [00:09<00:00, 250.00it/s]\n",
            "Epoch 3/15: 100%|██████████| 2273/2273 [00:08<00:00, 262.36it/s]\n",
            "Epoch 4/15: 100%|██████████| 2273/2273 [00:09<00:00, 246.94it/s]\n",
            "Epoch 5/15: 100%|██████████| 2273/2273 [00:08<00:00, 257.37it/s]\n",
            "Epoch 6/15: 100%|██████████| 2273/2273 [00:08<00:00, 258.96it/s]\n",
            "Epoch 7/15: 100%|██████████| 2273/2273 [00:09<00:00, 246.67it/s]\n",
            "Epoch 8/15: 100%|██████████| 2273/2273 [00:09<00:00, 247.99it/s]\n",
            "Epoch 9/15: 100%|██████████| 2273/2273 [00:08<00:00, 269.75it/s]\n",
            "Epoch 10/15: 100%|██████████| 2273/2273 [00:09<00:00, 244.25it/s]\n",
            "Epoch 11/15: 100%|██████████| 2273/2273 [00:09<00:00, 245.57it/s]\n",
            "Epoch 12/15: 100%|██████████| 2273/2273 [00:08<00:00, 270.31it/s]\n",
            "Epoch 13/15: 100%|██████████| 2273/2273 [00:09<00:00, 246.76it/s]\n",
            "Epoch 14/15: 100%|██████████| 2273/2273 [00:09<00:00, 245.26it/s]\n",
            "Epoch 15/15: 100%|██████████| 2273/2273 [00:08<00:00, 273.83it/s]\n"
          ]
        },
        {
          "output_type": "stream",
          "name": "stdout",
          "text": [
            "Fold 5 Results:\n",
            "Accuracy: 0.8861\n",
            "Precision: 0.8872\n",
            "Recall: 0.8861\n",
            "F1-Score: 0.8860\n",
            "\n",
            "Fold 6/10\n",
            "------------------------------\n",
            "Train size: 87275, Test size: 14545\n",
            "Train indices: 0 to 87274\n",
            "Test indices: 87275 to 101819\n"
          ]
        },
        {
          "output_type": "stream",
          "name": "stderr",
          "text": [
            "Epoch 1/15: 100%|██████████| 2728/2728 [00:10<00:00, 255.01it/s]\n",
            "Epoch 2/15: 100%|██████████| 2728/2728 [00:10<00:00, 251.00it/s]\n",
            "Epoch 3/15: 100%|██████████| 2728/2728 [00:10<00:00, 252.42it/s]\n",
            "Epoch 4/15: 100%|██████████| 2728/2728 [00:10<00:00, 254.93it/s]\n",
            "Epoch 5/15: 100%|██████████| 2728/2728 [00:10<00:00, 264.42it/s]\n",
            "Epoch 6/15: 100%|██████████| 2728/2728 [00:10<00:00, 258.47it/s]\n",
            "Epoch 7/15: 100%|██████████| 2728/2728 [00:10<00:00, 251.42it/s]\n",
            "Epoch 8/15: 100%|██████████| 2728/2728 [00:10<00:00, 250.10it/s]\n",
            "Epoch 9/15: 100%|██████████| 2728/2728 [00:10<00:00, 251.19it/s]\n",
            "Epoch 10/15: 100%|██████████| 2728/2728 [00:10<00:00, 257.80it/s]\n",
            "Epoch 11/15: 100%|██████████| 2728/2728 [00:10<00:00, 262.29it/s]\n",
            "Epoch 12/15: 100%|██████████| 2728/2728 [00:10<00:00, 250.72it/s]\n",
            "Epoch 13/15: 100%|██████████| 2728/2728 [00:10<00:00, 249.80it/s]\n",
            "Epoch 14/15: 100%|██████████| 2728/2728 [00:10<00:00, 249.97it/s]\n",
            "Epoch 15/15: 100%|██████████| 2728/2728 [00:10<00:00, 251.95it/s]\n"
          ]
        },
        {
          "output_type": "stream",
          "name": "stdout",
          "text": [
            "Fold 6 Results:\n",
            "Accuracy: 0.8914\n",
            "Precision: 0.8921\n",
            "Recall: 0.8914\n",
            "F1-Score: 0.8914\n",
            "\n",
            "Fold 7/10\n",
            "------------------------------\n",
            "Train size: 101820, Test size: 14545\n",
            "Train indices: 0 to 101819\n",
            "Test indices: 101820 to 116364\n"
          ]
        },
        {
          "output_type": "stream",
          "name": "stderr",
          "text": [
            "Epoch 1/15: 100%|██████████| 3182/3182 [00:12<00:00, 255.04it/s]\n",
            "Epoch 2/15: 100%|██████████| 3182/3182 [00:12<00:00, 258.31it/s]\n",
            "Epoch 3/15: 100%|██████████| 3182/3182 [00:12<00:00, 255.61it/s]\n",
            "Epoch 4/15: 100%|██████████| 3182/3182 [00:12<00:00, 256.80it/s]\n",
            "Epoch 5/15: 100%|██████████| 3182/3182 [00:12<00:00, 259.05it/s]\n",
            "Epoch 6/15: 100%|██████████| 3182/3182 [00:12<00:00, 252.08it/s]\n",
            "Epoch 7/15: 100%|██████████| 3182/3182 [00:12<00:00, 250.55it/s]\n",
            "Epoch 8/15: 100%|██████████| 3182/3182 [00:12<00:00, 250.03it/s]\n",
            "Epoch 9/15: 100%|██████████| 3182/3182 [00:12<00:00, 254.17it/s]\n",
            "Epoch 10/15: 100%|██████████| 3182/3182 [00:12<00:00, 254.31it/s]\n",
            "Epoch 11/15: 100%|██████████| 3182/3182 [00:12<00:00, 254.78it/s]\n",
            "Epoch 12/15: 100%|██████████| 3182/3182 [00:12<00:00, 253.73it/s]\n",
            "Epoch 13/15: 100%|██████████| 3182/3182 [00:12<00:00, 253.92it/s]\n",
            "Epoch 14/15: 100%|██████████| 3182/3182 [00:12<00:00, 255.41it/s]\n",
            "Epoch 15/15: 100%|██████████| 3182/3182 [00:12<00:00, 255.19it/s]\n"
          ]
        },
        {
          "output_type": "stream",
          "name": "stdout",
          "text": [
            "Fold 7 Results:\n",
            "Accuracy: 0.8932\n",
            "Precision: 0.8932\n",
            "Recall: 0.8932\n",
            "F1-Score: 0.8932\n",
            "\n",
            "Fold 8/10\n",
            "------------------------------\n",
            "Train size: 116365, Test size: 14545\n",
            "Train indices: 0 to 116364\n",
            "Test indices: 116365 to 130909\n"
          ]
        },
        {
          "output_type": "stream",
          "name": "stderr",
          "text": [
            "Epoch 1/15: 100%|██████████| 3637/3637 [00:14<00:00, 254.79it/s]\n",
            "Epoch 2/15: 100%|██████████| 3637/3637 [00:14<00:00, 254.25it/s]\n",
            "Epoch 3/15: 100%|██████████| 3637/3637 [00:14<00:00, 253.00it/s]\n",
            "Epoch 4/15: 100%|██████████| 3637/3637 [00:14<00:00, 253.01it/s]\n",
            "Epoch 5/15: 100%|██████████| 3637/3637 [00:14<00:00, 253.15it/s]\n",
            "Epoch 6/15: 100%|██████████| 3637/3637 [00:14<00:00, 252.15it/s]\n",
            "Epoch 7/15: 100%|██████████| 3637/3637 [00:14<00:00, 245.31it/s]\n",
            "Epoch 8/15: 100%|██████████| 3637/3637 [00:14<00:00, 251.84it/s]\n",
            "Epoch 9/15: 100%|██████████| 3637/3637 [00:14<00:00, 256.35it/s]\n",
            "Epoch 10/15: 100%|██████████| 3637/3637 [00:14<00:00, 256.01it/s]\n",
            "Epoch 11/15: 100%|██████████| 3637/3637 [00:14<00:00, 248.65it/s]\n",
            "Epoch 12/15: 100%|██████████| 3637/3637 [00:15<00:00, 238.39it/s]\n",
            "Epoch 13/15: 100%|██████████| 3637/3637 [00:15<00:00, 240.35it/s]\n",
            "Epoch 14/15: 100%|██████████| 3637/3637 [00:14<00:00, 253.29it/s]\n",
            "Epoch 15/15: 100%|██████████| 3637/3637 [00:14<00:00, 253.31it/s]\n"
          ]
        },
        {
          "output_type": "stream",
          "name": "stdout",
          "text": [
            "Fold 8 Results:\n",
            "Accuracy: 0.8902\n",
            "Precision: 0.8916\n",
            "Recall: 0.8902\n",
            "F1-Score: 0.8901\n",
            "\n",
            "Fold 9/10\n",
            "------------------------------\n",
            "Train size: 130910, Test size: 14545\n",
            "Train indices: 0 to 130909\n",
            "Test indices: 130910 to 145454\n"
          ]
        },
        {
          "output_type": "stream",
          "name": "stderr",
          "text": [
            "Epoch 1/15: 100%|██████████| 4091/4091 [00:16<00:00, 243.00it/s]\n",
            "Epoch 2/15: 100%|██████████| 4091/4091 [00:15<00:00, 256.08it/s]\n",
            "Epoch 3/15: 100%|██████████| 4091/4091 [00:16<00:00, 255.59it/s]\n",
            "Epoch 4/15: 100%|██████████| 4091/4091 [00:16<00:00, 254.10it/s]\n",
            "Epoch 5/15: 100%|██████████| 4091/4091 [00:16<00:00, 245.14it/s]\n",
            "Epoch 6/15: 100%|██████████| 4091/4091 [00:16<00:00, 250.69it/s]\n",
            "Epoch 7/15: 100%|██████████| 4091/4091 [00:16<00:00, 253.56it/s]\n",
            "Epoch 8/15: 100%|██████████| 4091/4091 [00:15<00:00, 255.69it/s]\n",
            "Epoch 9/15: 100%|██████████| 4091/4091 [00:16<00:00, 254.73it/s]\n",
            "Epoch 10/15: 100%|██████████| 4091/4091 [00:16<00:00, 246.05it/s]\n",
            "Epoch 11/15: 100%|██████████| 4091/4091 [00:16<00:00, 251.47it/s]\n",
            "Epoch 12/15: 100%|██████████| 4091/4091 [00:16<00:00, 254.12it/s]\n",
            "Epoch 13/15: 100%|██████████| 4091/4091 [00:16<00:00, 254.76it/s]\n",
            "Epoch 14/15: 100%|██████████| 4091/4091 [00:16<00:00, 244.20it/s]\n",
            "Epoch 15/15: 100%|██████████| 4091/4091 [00:16<00:00, 246.54it/s]\n"
          ]
        },
        {
          "output_type": "stream",
          "name": "stdout",
          "text": [
            "Fold 9 Results:\n",
            "Accuracy: 0.8854\n",
            "Precision: 0.8862\n",
            "Recall: 0.8854\n",
            "F1-Score: 0.8853\n",
            "\n",
            "Fold 10/10\n",
            "------------------------------\n",
            "Train size: 145455, Test size: 14545\n",
            "Train indices: 0 to 145454\n",
            "Test indices: 145455 to 159999\n"
          ]
        },
        {
          "output_type": "stream",
          "name": "stderr",
          "text": [
            "Epoch 1/15: 100%|██████████| 4546/4546 [00:17<00:00, 257.89it/s]\n",
            "Epoch 2/15: 100%|██████████| 4546/4546 [00:18<00:00, 245.45it/s]\n",
            "Epoch 3/15: 100%|██████████| 4546/4546 [00:17<00:00, 255.92it/s]\n",
            "Epoch 4/15: 100%|██████████| 4546/4546 [00:18<00:00, 251.41it/s]\n",
            "Epoch 5/15: 100%|██████████| 4546/4546 [00:18<00:00, 251.23it/s]\n",
            "Epoch 6/15: 100%|██████████| 4546/4546 [00:17<00:00, 257.72it/s]\n",
            "Epoch 7/15: 100%|██████████| 4546/4546 [00:18<00:00, 246.78it/s]\n",
            "Epoch 8/15: 100%|██████████| 4546/4546 [00:17<00:00, 258.50it/s]\n",
            "Epoch 9/15: 100%|██████████| 4546/4546 [00:17<00:00, 257.30it/s]\n",
            "Epoch 10/15: 100%|██████████| 4546/4546 [00:18<00:00, 247.29it/s]\n",
            "Epoch 11/15: 100%|██████████| 4546/4546 [00:17<00:00, 258.45it/s]\n",
            "Epoch 12/15: 100%|██████████| 4546/4546 [00:18<00:00, 252.38it/s]\n",
            "Epoch 13/15: 100%|██████████| 4546/4546 [00:17<00:00, 253.50it/s]\n",
            "Epoch 14/15: 100%|██████████| 4546/4546 [00:17<00:00, 257.98it/s]\n",
            "Epoch 15/15: 100%|██████████| 4546/4546 [00:18<00:00, 246.59it/s]\n"
          ]
        },
        {
          "output_type": "stream",
          "name": "stdout",
          "text": [
            "Fold 10 Results:\n",
            "Accuracy: 0.8903\n",
            "Precision: 0.8908\n",
            "Recall: 0.8903\n",
            "F1-Score: 0.8903\n",
            "\n",
            "==================================================\n",
            "TIME-SERIES CROSS-VALIDATION RESULTS\n",
            "==================================================\n",
            "Accuracy: 0.8857 ± 0.0060\n",
            "Precision: 0.8863 ± 0.0060\n",
            "Recall: 0.8857 ± 0.0060\n",
            "F1: 0.8856 ± 0.0060\n",
            "Time-Series Cross-Validation completed!\n"
          ]
        }
      ]
    },
    {
      "cell_type": "code",
      "source": [
        "def comprehensive_validation_comparison(dataset, model_class):\n",
        "    \"\"\"\n",
        "    Run all three validation methods and compare results\n",
        "    \"\"\"\n",
        "    print(\"=\"*60)\n",
        "    print(\"COMPREHENSIVE VALIDATION COMPARISON\")\n",
        "    print(\"=\"*60)\n",
        "\n",
        "    validation_methods = {\n",
        "        'Standard K-Fold': k_fold_cross_validation,\n",
        "        'Stratified K-Fold': stratified_k_fold_cross_validation,\n",
        "        'Time-Series': time_series_cross_validation\n",
        "    }\n",
        "\n",
        "    all_results = {}\n",
        "\n",
        "    for method_name, validation_func in validation_methods.items():\n",
        "        print(f\"\\n{'='*40}\")\n",
        "        print(f\"Running {method_name} Validation\")\n",
        "        print(f\"{'='*40}\")\n",
        "\n",
        "        try:\n",
        "            if method_name == 'Time-Series':\n",
        "                results = validation_func(dataset, model_class, n_splits=5, epochs=10)  # Fewer splits for demo\n",
        "            else:\n",
        "                results = validation_func(dataset, model_class, k_folds=5, epochs=10)  # Fewer folds for demo\n",
        "\n",
        "            all_results[method_name] = results\n",
        "\n",
        "        except Exception as e:\n",
        "            print(f\"Error in {method_name}: {e}\")\n",
        "            all_results[method_name] = None\n",
        "\n",
        "    # Compare results\n",
        "    print(f\"\\n{'='*60}\")\n",
        "    print(\"VALIDATION METHODS COMPARISON\")\n",
        "    print(f\"{'='*60}\")\n",
        "\n",
        "    comparison_df = []\n",
        "    for method, results in all_results.items():\n",
        "        if results is not None:\n",
        "            row = {\n",
        "                'Method': method,\n",
        "                'Accuracy': f\"{np.mean(results['accuracy']):.4f} ± {np.std(results['accuracy']):.4f}\",\n",
        "                'Precision': f\"{np.mean(results['precision']):.4f} ± {np.std(results['precision']):.4f}\",\n",
        "                'Recall': f\"{np.mean(results['recall']):.4f} ± {np.std(results['recall']):.4f}\",\n",
        "                'F1-Score': f\"{np.mean(results['f1']):.4f} ± {np.std(results['f1']):.4f}\"\n",
        "            }\n",
        "            comparison_df.append(row)\n",
        "\n",
        "    # Print comparison table\n",
        "    import pandas as pd\n",
        "    df = pd.DataFrame(comparison_df)\n",
        "    print(df.to_string(index=False))\n",
        "\n",
        "    return all_results\n",
        "\n",
        "# Run comprehensive comparison\n",
        "try:\n",
        "    dtrain = load_feature_set(\"amazon_train\")\n",
        "\n",
        "    all_validation_results = comprehensive_validation_comparison(\n",
        "        dataset=dtrain,\n",
        "        model_class=FeatureAttentionFusionModel\n",
        "    )\n",
        "\n",
        "except Exception as e:\n",
        "    print(f\"Error during comprehensive validation: {e}\")\n"
      ],
      "metadata": {
        "colab": {
          "base_uri": "https://localhost:8080/"
        },
        "id": "5z7TkazB_GGj",
        "outputId": "a4a1e353-70ef-478c-ae90-87994c2a5db4"
      },
      "execution_count": null,
      "outputs": [
        {
          "output_type": "stream",
          "name": "stdout",
          "text": [
            "============================================================\n",
            "COMPREHENSIVE VALIDATION COMPARISON\n",
            "============================================================\n",
            "\n",
            "========================================\n",
            "Running Standard K-Fold Validation\n",
            "========================================\n",
            "Starting 5-Fold Cross-Validation...\n",
            "\n",
            "Fold 1/5\n",
            "------------------------------\n"
          ]
        },
        {
          "output_type": "stream",
          "name": "stderr",
          "text": [
            "Epoch 1/10: 100%|██████████| 4000/4000 [00:15<00:00, 255.15it/s]\n",
            "Epoch 2/10: 100%|██████████| 4000/4000 [00:16<00:00, 240.05it/s]\n",
            "Epoch 3/10: 100%|██████████| 4000/4000 [00:15<00:00, 254.05it/s]\n",
            "Epoch 4/10: 100%|██████████| 4000/4000 [00:15<00:00, 254.82it/s]\n",
            "Epoch 5/10: 100%|██████████| 4000/4000 [00:15<00:00, 255.20it/s]\n"
          ]
        },
        {
          "output_type": "stream",
          "name": "stdout",
          "text": [
            "Epoch 5/10, Loss: 0.2695\n"
          ]
        },
        {
          "output_type": "stream",
          "name": "stderr",
          "text": [
            "Epoch 6/10: 100%|██████████| 4000/4000 [00:16<00:00, 249.55it/s]\n",
            "Epoch 7/10: 100%|██████████| 4000/4000 [00:16<00:00, 248.79it/s]\n",
            "Epoch 8/10: 100%|██████████| 4000/4000 [00:15<00:00, 256.71it/s]\n",
            "Epoch 9/10: 100%|██████████| 4000/4000 [00:15<00:00, 256.28it/s]\n",
            "Epoch 10/10: 100%|██████████| 4000/4000 [00:15<00:00, 255.25it/s]\n"
          ]
        },
        {
          "output_type": "stream",
          "name": "stdout",
          "text": [
            "Epoch 10/10, Loss: 0.2553\n",
            "Fold 1 Results:\n",
            "Accuracy: 0.8939\n",
            "Precision: 0.8940\n",
            "Recall: 0.8939\n",
            "F1-Score: 0.8939\n",
            "\n",
            "Fold 2/5\n",
            "------------------------------\n"
          ]
        },
        {
          "output_type": "stream",
          "name": "stderr",
          "text": [
            "Epoch 1/10: 100%|██████████| 4000/4000 [00:15<00:00, 250.33it/s]\n",
            "Epoch 2/10: 100%|██████████| 4000/4000 [00:15<00:00, 253.07it/s]\n",
            "Epoch 3/10: 100%|██████████| 4000/4000 [00:15<00:00, 252.76it/s]\n",
            "Epoch 4/10: 100%|██████████| 4000/4000 [00:15<00:00, 252.47it/s]\n",
            "Epoch 5/10: 100%|██████████| 4000/4000 [00:16<00:00, 245.61it/s]\n"
          ]
        },
        {
          "output_type": "stream",
          "name": "stdout",
          "text": [
            "Epoch 5/10, Loss: 0.2688\n"
          ]
        },
        {
          "output_type": "stream",
          "name": "stderr",
          "text": [
            "Epoch 6/10: 100%|██████████| 4000/4000 [00:15<00:00, 253.19it/s]\n",
            "Epoch 7/10: 100%|██████████| 4000/4000 [00:15<00:00, 254.77it/s]\n",
            "Epoch 8/10: 100%|██████████| 4000/4000 [00:15<00:00, 254.85it/s]\n",
            "Epoch 9/10: 100%|██████████| 4000/4000 [00:16<00:00, 245.19it/s]\n",
            "Epoch 10/10: 100%|██████████| 4000/4000 [00:15<00:00, 254.19it/s]\n"
          ]
        },
        {
          "output_type": "stream",
          "name": "stdout",
          "text": [
            "Epoch 10/10, Loss: 0.2539\n",
            "Fold 2 Results:\n",
            "Accuracy: 0.8914\n",
            "Precision: 0.8917\n",
            "Recall: 0.8914\n",
            "F1-Score: 0.8914\n",
            "\n",
            "Fold 3/5\n",
            "------------------------------\n"
          ]
        },
        {
          "output_type": "stream",
          "name": "stderr",
          "text": [
            "Epoch 1/10: 100%|██████████| 4000/4000 [00:15<00:00, 254.43it/s]\n",
            "Epoch 2/10: 100%|██████████| 4000/4000 [00:15<00:00, 252.40it/s]\n",
            "Epoch 3/10: 100%|██████████| 4000/4000 [00:16<00:00, 241.95it/s]\n",
            "Epoch 4/10: 100%|██████████| 4000/4000 [00:15<00:00, 252.46it/s]\n",
            "Epoch 5/10: 100%|██████████| 4000/4000 [00:15<00:00, 254.98it/s]\n"
          ]
        },
        {
          "output_type": "stream",
          "name": "stdout",
          "text": [
            "Epoch 5/10, Loss: 0.2691\n"
          ]
        },
        {
          "output_type": "stream",
          "name": "stderr",
          "text": [
            "Epoch 6/10: 100%|██████████| 4000/4000 [00:15<00:00, 253.45it/s]\n",
            "Epoch 7/10: 100%|██████████| 4000/4000 [00:16<00:00, 248.89it/s]\n",
            "Epoch 8/10: 100%|██████████| 4000/4000 [00:16<00:00, 248.98it/s]\n",
            "Epoch 9/10: 100%|██████████| 4000/4000 [00:15<00:00, 254.22it/s]\n",
            "Epoch 10/10: 100%|██████████| 4000/4000 [00:15<00:00, 255.27it/s]\n"
          ]
        },
        {
          "output_type": "stream",
          "name": "stdout",
          "text": [
            "Epoch 10/10, Loss: 0.2554\n",
            "Fold 3 Results:\n",
            "Accuracy: 0.8898\n",
            "Precision: 0.8907\n",
            "Recall: 0.8898\n",
            "F1-Score: 0.8898\n",
            "\n",
            "Fold 4/5\n",
            "------------------------------\n"
          ]
        },
        {
          "output_type": "stream",
          "name": "stderr",
          "text": [
            "Epoch 1/10: 100%|██████████| 4000/4000 [00:16<00:00, 246.89it/s]\n",
            "Epoch 2/10: 100%|██████████| 4000/4000 [00:15<00:00, 251.60it/s]\n",
            "Epoch 3/10: 100%|██████████| 4000/4000 [00:15<00:00, 253.99it/s]\n",
            "Epoch 4/10: 100%|██████████| 4000/4000 [00:15<00:00, 254.78it/s]\n",
            "Epoch 5/10: 100%|██████████| 4000/4000 [00:15<00:00, 252.62it/s]\n"
          ]
        },
        {
          "output_type": "stream",
          "name": "stdout",
          "text": [
            "Epoch 5/10, Loss: 0.2686\n"
          ]
        },
        {
          "output_type": "stream",
          "name": "stderr",
          "text": [
            "Epoch 6/10: 100%|██████████| 4000/4000 [00:16<00:00, 244.06it/s]\n",
            "Epoch 7/10: 100%|██████████| 4000/4000 [00:15<00:00, 255.02it/s]\n",
            "Epoch 8/10: 100%|██████████| 4000/4000 [00:15<00:00, 253.52it/s]\n",
            "Epoch 9/10: 100%|██████████| 4000/4000 [00:15<00:00, 254.41it/s]\n",
            "Epoch 10/10: 100%|██████████| 4000/4000 [00:16<00:00, 242.96it/s]\n"
          ]
        },
        {
          "output_type": "stream",
          "name": "stdout",
          "text": [
            "Epoch 10/10, Loss: 0.2529\n",
            "Fold 4 Results:\n",
            "Accuracy: 0.8889\n",
            "Precision: 0.8896\n",
            "Recall: 0.8889\n",
            "F1-Score: 0.8888\n",
            "\n",
            "Fold 5/5\n",
            "------------------------------\n"
          ]
        },
        {
          "output_type": "stream",
          "name": "stderr",
          "text": [
            "Epoch 1/10: 100%|██████████| 4000/4000 [00:15<00:00, 251.91it/s]\n",
            "Epoch 2/10: 100%|██████████| 4000/4000 [00:15<00:00, 254.93it/s]\n",
            "Epoch 3/10: 100%|██████████| 4000/4000 [00:15<00:00, 253.21it/s]\n",
            "Epoch 4/10: 100%|██████████| 4000/4000 [00:16<00:00, 244.29it/s]\n",
            "Epoch 5/10: 100%|██████████| 4000/4000 [00:15<00:00, 255.57it/s]\n"
          ]
        },
        {
          "output_type": "stream",
          "name": "stdout",
          "text": [
            "Epoch 5/10, Loss: 0.2681\n"
          ]
        },
        {
          "output_type": "stream",
          "name": "stderr",
          "text": [
            "Epoch 6/10: 100%|██████████| 4000/4000 [00:15<00:00, 253.18it/s]\n",
            "Epoch 7/10: 100%|██████████| 4000/4000 [00:15<00:00, 254.46it/s]\n",
            "Epoch 8/10: 100%|██████████| 4000/4000 [00:16<00:00, 247.79it/s]\n",
            "Epoch 9/10: 100%|██████████| 4000/4000 [00:15<00:00, 250.30it/s]\n",
            "Epoch 10/10: 100%|██████████| 4000/4000 [00:15<00:00, 253.71it/s]\n"
          ]
        },
        {
          "output_type": "stream",
          "name": "stdout",
          "text": [
            "Epoch 10/10, Loss: 0.2536\n",
            "Fold 5 Results:\n",
            "Accuracy: 0.8910\n",
            "Precision: 0.8926\n",
            "Recall: 0.8910\n",
            "F1-Score: 0.8909\n",
            "\n",
            "==================================================\n",
            "CROSS-VALIDATION RESULTS\n",
            "==================================================\n",
            "Accuracy: 0.8910 ± 0.0017\n",
            "Precision: 0.8917 ± 0.0015\n",
            "Recall: 0.8910 ± 0.0017\n",
            "F1: 0.8910 ± 0.0017\n",
            "\n",
            "========================================\n",
            "Running Stratified K-Fold Validation\n",
            "========================================\n",
            "Starting 5-Fold Stratified Cross-Validation...\n",
            "Total samples: 160000\n",
            "Class distribution: [80000 80000]\n",
            "\n",
            "Fold 1/5\n",
            "------------------------------\n",
            "Train set distribution: [64000 64000]\n",
            "Validation set distribution: [16000 16000]\n"
          ]
        },
        {
          "output_type": "stream",
          "name": "stderr",
          "text": [
            "Epoch 1/10: 100%|██████████| 4000/4000 [00:15<00:00, 257.02it/s]\n",
            "Epoch 2/10: 100%|██████████| 4000/4000 [00:16<00:00, 245.38it/s]\n",
            "Epoch 3/10: 100%|██████████| 4000/4000 [00:15<00:00, 253.63it/s]\n",
            "Epoch 4/10: 100%|██████████| 4000/4000 [00:15<00:00, 251.30it/s]\n",
            "Epoch 5/10: 100%|██████████| 4000/4000 [00:15<00:00, 256.25it/s]\n",
            "Epoch 6/10: 100%|██████████| 4000/4000 [00:15<00:00, 254.56it/s]\n",
            "Epoch 7/10: 100%|██████████| 4000/4000 [00:16<00:00, 249.24it/s]\n",
            "Epoch 8/10: 100%|██████████| 4000/4000 [00:15<00:00, 258.40it/s]\n",
            "Epoch 9/10: 100%|██████████| 4000/4000 [00:15<00:00, 255.63it/s]\n",
            "Epoch 10/10: 100%|██████████| 4000/4000 [00:15<00:00, 256.01it/s]\n"
          ]
        },
        {
          "output_type": "stream",
          "name": "stdout",
          "text": [
            "Fold 1 Results:\n",
            "Accuracy: 0.8917\n",
            "Precision: 0.8918\n",
            "Recall: 0.8917\n",
            "F1-Score: 0.8917\n",
            "\n",
            "Fold 2/5\n",
            "------------------------------\n",
            "Train set distribution: [64000 64000]\n",
            "Validation set distribution: [16000 16000]\n"
          ]
        },
        {
          "output_type": "stream",
          "name": "stderr",
          "text": [
            "Epoch 1/10: 100%|██████████| 4000/4000 [00:16<00:00, 246.68it/s]\n",
            "Epoch 2/10: 100%|██████████| 4000/4000 [00:15<00:00, 258.48it/s]\n",
            "Epoch 3/10: 100%|██████████| 4000/4000 [00:15<00:00, 254.15it/s]\n",
            "Epoch 4/10: 100%|██████████| 4000/4000 [00:15<00:00, 255.34it/s]\n",
            "Epoch 5/10: 100%|██████████| 4000/4000 [00:16<00:00, 244.76it/s]\n",
            "Epoch 6/10: 100%|██████████| 4000/4000 [00:16<00:00, 248.67it/s]\n",
            "Epoch 7/10: 100%|██████████| 4000/4000 [00:15<00:00, 254.05it/s]\n",
            "Epoch 8/10: 100%|██████████| 4000/4000 [00:15<00:00, 257.63it/s]\n",
            "Epoch 9/10: 100%|██████████| 4000/4000 [00:15<00:00, 252.43it/s]\n",
            "Epoch 10/10: 100%|██████████| 4000/4000 [00:16<00:00, 249.52it/s]\n"
          ]
        },
        {
          "output_type": "stream",
          "name": "stdout",
          "text": [
            "Fold 2 Results:\n",
            "Accuracy: 0.8938\n",
            "Precision: 0.8939\n",
            "Recall: 0.8938\n",
            "F1-Score: 0.8938\n",
            "\n",
            "Fold 3/5\n",
            "------------------------------\n",
            "Train set distribution: [64000 64000]\n",
            "Validation set distribution: [16000 16000]\n"
          ]
        },
        {
          "output_type": "stream",
          "name": "stderr",
          "text": [
            "Epoch 1/10: 100%|██████████| 4000/4000 [00:15<00:00, 257.36it/s]\n",
            "Epoch 2/10: 100%|██████████| 4000/4000 [00:15<00:00, 258.63it/s]\n",
            "Epoch 3/10: 100%|██████████| 4000/4000 [00:15<00:00, 252.77it/s]\n",
            "Epoch 4/10: 100%|██████████| 4000/4000 [00:16<00:00, 248.74it/s]\n",
            "Epoch 5/10: 100%|██████████| 4000/4000 [00:15<00:00, 256.60it/s]\n",
            "Epoch 6/10: 100%|██████████| 4000/4000 [00:15<00:00, 258.44it/s]\n",
            "Epoch 7/10: 100%|██████████| 4000/4000 [00:15<00:00, 258.87it/s]\n",
            "Epoch 8/10: 100%|██████████| 4000/4000 [00:15<00:00, 254.67it/s]\n",
            "Epoch 9/10: 100%|██████████| 4000/4000 [00:15<00:00, 250.96it/s]\n",
            "Epoch 10/10: 100%|██████████| 4000/4000 [00:15<00:00, 254.87it/s]\n"
          ]
        },
        {
          "output_type": "stream",
          "name": "stdout",
          "text": [
            "Fold 3 Results:\n",
            "Accuracy: 0.8915\n",
            "Precision: 0.8921\n",
            "Recall: 0.8915\n",
            "F1-Score: 0.8915\n",
            "\n",
            "Fold 4/5\n",
            "------------------------------\n",
            "Train set distribution: [64000 64000]\n",
            "Validation set distribution: [16000 16000]\n"
          ]
        },
        {
          "output_type": "stream",
          "name": "stderr",
          "text": [
            "Epoch 1/10: 100%|██████████| 4000/4000 [00:15<00:00, 259.06it/s]\n",
            "Epoch 2/10: 100%|██████████| 4000/4000 [00:15<00:00, 250.07it/s]\n",
            "Epoch 3/10: 100%|██████████| 4000/4000 [00:15<00:00, 253.55it/s]\n",
            "Epoch 4/10: 100%|██████████| 4000/4000 [00:15<00:00, 257.25it/s]\n",
            "Epoch 5/10: 100%|██████████| 4000/4000 [00:15<00:00, 257.72it/s]\n",
            "Epoch 6/10: 100%|██████████| 4000/4000 [00:15<00:00, 256.72it/s]\n",
            "Epoch 7/10: 100%|██████████| 4000/4000 [00:16<00:00, 245.51it/s]\n",
            "Epoch 8/10: 100%|██████████| 4000/4000 [00:15<00:00, 254.88it/s]\n",
            "Epoch 9/10: 100%|██████████| 4000/4000 [00:15<00:00, 256.02it/s]\n",
            "Epoch 10/10: 100%|██████████| 4000/4000 [00:15<00:00, 254.53it/s]\n"
          ]
        },
        {
          "output_type": "stream",
          "name": "stdout",
          "text": [
            "Fold 4 Results:\n",
            "Accuracy: 0.8919\n",
            "Precision: 0.8921\n",
            "Recall: 0.8919\n",
            "F1-Score: 0.8919\n",
            "\n",
            "Fold 5/5\n",
            "------------------------------\n",
            "Train set distribution: [64000 64000]\n",
            "Validation set distribution: [16000 16000]\n"
          ]
        },
        {
          "output_type": "stream",
          "name": "stderr",
          "text": [
            "Epoch 1/10: 100%|██████████| 4000/4000 [00:16<00:00, 243.47it/s]\n",
            "Epoch 2/10: 100%|██████████| 4000/4000 [00:15<00:00, 256.73it/s]\n",
            "Epoch 3/10: 100%|██████████| 4000/4000 [00:15<00:00, 255.39it/s]\n",
            "Epoch 4/10: 100%|██████████| 4000/4000 [00:15<00:00, 256.47it/s]\n",
            "Epoch 5/10: 100%|██████████| 4000/4000 [00:15<00:00, 254.40it/s]\n",
            "Epoch 6/10: 100%|██████████| 4000/4000 [00:16<00:00, 248.41it/s]\n",
            "Epoch 7/10: 100%|██████████| 4000/4000 [00:15<00:00, 256.04it/s]\n",
            "Epoch 8/10: 100%|██████████| 4000/4000 [00:15<00:00, 256.07it/s]\n",
            "Epoch 9/10: 100%|██████████| 4000/4000 [00:15<00:00, 252.84it/s]\n",
            "Epoch 10/10: 100%|██████████| 4000/4000 [00:16<00:00, 247.06it/s]\n"
          ]
        },
        {
          "output_type": "stream",
          "name": "stdout",
          "text": [
            "Fold 5 Results:\n",
            "Accuracy: 0.8902\n",
            "Precision: 0.8916\n",
            "Recall: 0.8902\n",
            "F1-Score: 0.8902\n",
            "\n",
            "==================================================\n",
            "STRATIFIED CROSS-VALIDATION RESULTS\n",
            "==================================================\n",
            "Accuracy: 0.8918 ± 0.0011\n",
            "Precision: 0.8923 ± 0.0008\n",
            "Recall: 0.8918 ± 0.0011\n",
            "F1: 0.8918 ± 0.0012\n",
            "\n",
            "========================================\n",
            "Running Time-Series Validation\n",
            "========================================\n",
            "Starting Time-Series Cross-Validation with 5 splits...\n",
            "Total samples: 160000\n",
            "\n",
            "Fold 1/5\n",
            "------------------------------\n",
            "Train size: 26670, Test size: 26666\n",
            "Train indices: 0 to 26669\n",
            "Test indices: 26670 to 53335\n"
          ]
        },
        {
          "output_type": "stream",
          "name": "stderr",
          "text": [
            "Epoch 1/10: 100%|██████████| 834/834 [00:03<00:00, 271.53it/s]\n",
            "Epoch 2/10: 100%|██████████| 834/834 [00:03<00:00, 271.15it/s]\n",
            "Epoch 3/10: 100%|██████████| 834/834 [00:03<00:00, 258.14it/s]\n",
            "Epoch 4/10: 100%|██████████| 834/834 [00:03<00:00, 234.08it/s]\n",
            "Epoch 5/10: 100%|██████████| 834/834 [00:03<00:00, 267.70it/s]\n",
            "Epoch 6/10: 100%|██████████| 834/834 [00:03<00:00, 262.84it/s]\n",
            "Epoch 7/10: 100%|██████████| 834/834 [00:03<00:00, 253.48it/s]\n",
            "Epoch 8/10: 100%|██████████| 834/834 [00:03<00:00, 232.66it/s]\n",
            "Epoch 9/10: 100%|██████████| 834/834 [00:03<00:00, 271.05it/s]\n",
            "Epoch 10/10: 100%|██████████| 834/834 [00:03<00:00, 275.82it/s]\n"
          ]
        },
        {
          "output_type": "stream",
          "name": "stdout",
          "text": [
            "Fold 1 Results:\n",
            "Accuracy: 0.8796\n",
            "Precision: 0.8804\n",
            "Recall: 0.8796\n",
            "F1-Score: 0.8795\n",
            "\n",
            "Fold 2/5\n",
            "------------------------------\n",
            "Train size: 53336, Test size: 26666\n",
            "Train indices: 0 to 53335\n",
            "Test indices: 53336 to 80001\n"
          ]
        },
        {
          "output_type": "stream",
          "name": "stderr",
          "text": [
            "Epoch 1/10: 100%|██████████| 1667/1667 [00:06<00:00, 245.29it/s]\n",
            "Epoch 2/10: 100%|██████████| 1667/1667 [00:06<00:00, 273.13it/s]\n",
            "Epoch 3/10: 100%|██████████| 1667/1667 [00:06<00:00, 240.54it/s]\n",
            "Epoch 4/10: 100%|██████████| 1667/1667 [00:06<00:00, 271.28it/s]\n",
            "Epoch 5/10: 100%|██████████| 1667/1667 [00:06<00:00, 241.96it/s]\n",
            "Epoch 6/10: 100%|██████████| 1667/1667 [00:06<00:00, 273.87it/s]\n",
            "Epoch 7/10: 100%|██████████| 1667/1667 [00:06<00:00, 238.89it/s]\n",
            "Epoch 8/10: 100%|██████████| 1667/1667 [00:06<00:00, 272.27it/s]\n",
            "Epoch 9/10: 100%|██████████| 1667/1667 [00:06<00:00, 242.10it/s]\n",
            "Epoch 10/10: 100%|██████████| 1667/1667 [00:06<00:00, 271.10it/s]\n"
          ]
        },
        {
          "output_type": "stream",
          "name": "stdout",
          "text": [
            "Fold 2 Results:\n",
            "Accuracy: 0.8849\n",
            "Precision: 0.8858\n",
            "Recall: 0.8849\n",
            "F1-Score: 0.8848\n",
            "\n",
            "Fold 3/5\n",
            "------------------------------\n",
            "Train size: 80002, Test size: 26666\n",
            "Train indices: 0 to 80001\n",
            "Test indices: 80002 to 106667\n"
          ]
        },
        {
          "output_type": "stream",
          "name": "stderr",
          "text": [
            "Epoch 1/10: 100%|██████████| 2501/2501 [00:09<00:00, 263.28it/s]\n",
            "Epoch 2/10: 100%|██████████| 2501/2501 [00:09<00:00, 252.33it/s]\n",
            "Epoch 3/10: 100%|██████████| 2501/2501 [00:09<00:00, 251.67it/s]\n",
            "Epoch 4/10: 100%|██████████| 2501/2501 [00:09<00:00, 257.52it/s]\n",
            "Epoch 5/10: 100%|██████████| 2501/2501 [00:09<00:00, 264.15it/s]\n",
            "Epoch 6/10: 100%|██████████| 2501/2501 [00:10<00:00, 248.31it/s]\n",
            "Epoch 7/10: 100%|██████████| 2501/2501 [00:09<00:00, 251.32it/s]\n",
            "Epoch 8/10: 100%|██████████| 2501/2501 [00:09<00:00, 257.21it/s]\n",
            "Epoch 9/10: 100%|██████████| 2501/2501 [00:09<00:00, 263.82it/s]\n",
            "Epoch 10/10: 100%|██████████| 2501/2501 [00:09<00:00, 250.57it/s]\n"
          ]
        },
        {
          "output_type": "stream",
          "name": "stdout",
          "text": [
            "Fold 3 Results:\n",
            "Accuracy: 0.8904\n",
            "Precision: 0.8905\n",
            "Recall: 0.8904\n",
            "F1-Score: 0.8904\n",
            "\n",
            "Fold 4/5\n",
            "------------------------------\n",
            "Train size: 106668, Test size: 26666\n",
            "Train indices: 0 to 106667\n",
            "Test indices: 106668 to 133333\n"
          ]
        },
        {
          "output_type": "stream",
          "name": "stderr",
          "text": [
            "Epoch 1/10: 100%|██████████| 3334/3334 [00:13<00:00, 255.54it/s]\n",
            "Epoch 2/10: 100%|██████████| 3334/3334 [00:13<00:00, 255.66it/s]\n",
            "Epoch 3/10: 100%|██████████| 3334/3334 [00:13<00:00, 254.37it/s]\n",
            "Epoch 4/10: 100%|██████████| 3334/3334 [00:13<00:00, 254.78it/s]\n",
            "Epoch 5/10: 100%|██████████| 3334/3334 [00:13<00:00, 252.93it/s]\n",
            "Epoch 6/10: 100%|██████████| 3334/3334 [00:13<00:00, 255.18it/s]\n",
            "Epoch 7/10: 100%|██████████| 3334/3334 [00:13<00:00, 248.96it/s]\n",
            "Epoch 8/10: 100%|██████████| 3334/3334 [00:13<00:00, 246.18it/s]\n",
            "Epoch 9/10: 100%|██████████| 3334/3334 [00:13<00:00, 249.26it/s]\n",
            "Epoch 10/10: 100%|██████████| 3334/3334 [00:13<00:00, 252.85it/s]\n"
          ]
        },
        {
          "output_type": "stream",
          "name": "stdout",
          "text": [
            "Fold 4 Results:\n",
            "Accuracy: 0.8768\n",
            "Precision: 0.8862\n",
            "Recall: 0.8768\n",
            "F1-Score: 0.8761\n",
            "\n",
            "Fold 5/5\n",
            "------------------------------\n",
            "Train size: 133334, Test size: 26666\n",
            "Train indices: 0 to 133333\n",
            "Test indices: 133334 to 159999\n"
          ]
        },
        {
          "output_type": "stream",
          "name": "stderr",
          "text": [
            "Epoch 1/10: 100%|██████████| 4167/4167 [00:16<00:00, 247.36it/s]\n",
            "Epoch 2/10: 100%|██████████| 4167/4167 [00:16<00:00, 254.79it/s]\n",
            "Epoch 3/10: 100%|██████████| 4167/4167 [00:16<00:00, 254.31it/s]\n",
            "Epoch 4/10: 100%|██████████| 4167/4167 [00:16<00:00, 247.20it/s]\n",
            "Epoch 5/10: 100%|██████████| 4167/4167 [00:16<00:00, 253.15it/s]\n",
            "Epoch 6/10: 100%|██████████| 4167/4167 [00:16<00:00, 256.35it/s]\n",
            "Epoch 7/10: 100%|██████████| 4167/4167 [00:16<00:00, 254.32it/s]\n",
            "Epoch 8/10: 100%|██████████| 4167/4167 [00:16<00:00, 245.72it/s]\n",
            "Epoch 9/10: 100%|██████████| 4167/4167 [00:16<00:00, 258.07it/s]\n",
            "Epoch 10/10: 100%|██████████| 4167/4167 [00:16<00:00, 257.85it/s]\n"
          ]
        },
        {
          "output_type": "stream",
          "name": "stdout",
          "text": [
            "Fold 5 Results:\n",
            "Accuracy: 0.8836\n",
            "Precision: 0.8836\n",
            "Recall: 0.8836\n",
            "F1-Score: 0.8836\n",
            "\n",
            "==================================================\n",
            "TIME-SERIES CROSS-VALIDATION RESULTS\n",
            "==================================================\n",
            "Accuracy: 0.8831 ± 0.0047\n",
            "Precision: 0.8853 ± 0.0033\n",
            "Recall: 0.8831 ± 0.0047\n",
            "F1: 0.8829 ± 0.0049\n",
            "\n",
            "============================================================\n",
            "VALIDATION METHODS COMPARISON\n",
            "============================================================\n",
            "           Method        Accuracy       Precision          Recall        F1-Score\n",
            "  Standard K-Fold 0.8910 ± 0.0017 0.8917 ± 0.0015 0.8910 ± 0.0017 0.8910 ± 0.0017\n",
            "Stratified K-Fold 0.8918 ± 0.0011 0.8923 ± 0.0008 0.8918 ± 0.0011 0.8918 ± 0.0012\n",
            "      Time-Series 0.8831 ± 0.0047 0.8853 ± 0.0033 0.8831 ± 0.0047 0.8829 ± 0.0049\n"
          ]
        }
      ]
    }
  ]
}